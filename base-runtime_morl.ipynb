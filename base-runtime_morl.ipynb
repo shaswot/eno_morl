{
 "cells": [
  {
   "cell_type": "code",
   "execution_count": 1,
   "metadata": {
    "jupyter": {
     "source_hidden": true
    }
   },
   "outputs": [],
   "source": [
    "import numpy as np\n",
    "import matplotlib\n",
    "import matplotlib.pyplot as plt\n",
    "import os\n",
    "\n",
    "# Analyze a series of experiments over an average of all seed runs\n",
    "\n",
    "# plt.rc('font', family='serif', serif='Times')\n",
    "# plt.rc('text', usetex=True)\n",
    "plt.rc('xtick', labelsize=8)\n",
    "plt.rc('ytick', labelsize=8)\n",
    "plt.rc('axes', labelsize=8)\n",
    "\n",
    "# Get seedlist\n",
    "file = 'seedlist.dat'\n",
    "with open(file) as f:\n",
    "    seed_list = []\n",
    "    for line in f: # read rest of lines\n",
    "        seed_list.append([int(x) for x in line.split()][0])\n",
    "# print(seed_list)"
   ]
  },
  {
   "cell_type": "code",
   "execution_count": 2,
   "metadata": {
    "jupyter": {
     "source_hidden": true
    }
   },
   "outputs": [],
   "source": [
    "# Define list of experiments to analyze for given seed\n",
    "experiment_list=[\n",
    "    'csense_t24_random-base_g0.997-n0.7',\n",
    "    'cenp_t24_random-base_g0.997-n0.7',\n",
    "    'cenp_t24_random-morl_runtime_g0.997-n0.7-p0.2',\n",
    "    'cenp_t24_random-morl_runtime_g0.997-n0.7-p0.5',\n",
    "    'cenp_t24_random-morl_runtime_g0.997-n0.7-p0.8',\n",
    "\n",
    "\n",
    "]"
   ]
  },
  {
   "cell_type": "code",
   "execution_count": 3,
   "metadata": {
    "jupyter": {
     "source_hidden": true
    }
   },
   "outputs": [],
   "source": [
    "experiment_label = {'csense_t24_random-base_g0.997-n0.7':'sense',\n",
    "                    'cenp_t24_random-base_g0.997-n0.7':'enp',\n",
    "                    'cenp_t24_random-morl_runtime_g0.997-n0.7-p0.2':'morl_runtime,0.2',\n",
    "                    'cenp_t24_random-morl_runtime_g0.997-n0.7-p0.5':'morl_runtime,0.5',\n",
    "                    'cenp_t24_random-morl_runtime_g0.997-n0.7-p0.8':'morl_runtime,0.8',\n",
    "\n",
    "                   }\n",
    "experiment_color = {'csense_t24_random-base_g0.997-n0.7':'tab:red',\n",
    "                    'cenp_t24_random-base_g0.997-n0.7':'tab:green',\n",
    "                    'cenp_t24_random-morl_runtime_g0.997-n0.7-p0.2':'tab:cyan',\n",
    "                    'cenp_t24_random-morl_runtime_g0.997-n0.7-p0.5':'tab:olive',\n",
    "                    'cenp_t24_random-morl_runtime_g0.997-n0.7-p0.8':'tab:pink',                  \n",
    "                   }"
   ]
  },
  {
   "cell_type": "code",
   "execution_count": 4,
   "metadata": {
    "jupyter": {
     "source_hidden": true
    }
   },
   "outputs": [
    {
     "name": "stdout",
     "output_type": "stream",
     "text": [
      "test\n"
     ]
    }
   ],
   "source": [
    "# Set mode to train or test\n",
    "mode = \"test\"\n",
    "print(mode)\n",
    "\n",
    "results = {} # dictionary to hold experimental data\n",
    "# results[experiment][seed_no]\n",
    "\n",
    "for experiment in experiment_list:\n",
    "    results[experiment]={}        \n",
    "    for seed_no in seed_list:\n",
    "        # Load data of experiment and store in a dictionary\n",
    "        tag = experiment + '-' + str(seed_no)\n",
    "        cur_folder = os.getcwd()\n",
    "        exp_results_folder = os.path.join(cur_folder,\"results\", experiment, mode) # experiment folder\n",
    "        exp_results_file = os.path.join(exp_results_folder, tag + '-'+ mode + '.npy') # experiment data file\n",
    "        exp_result = np.load(exp_results_file,allow_pickle='TRUE').item()\n",
    "        results[experiment][seed_no] = exp_result # load to dictionary\n",
    "\n",
    "# Get list of locations and years in the experimental data\n",
    "location_list   = list(results[experiment_list[0]][seed_list[0]].keys())\n",
    "year_list       = list(results[experiment_list[0]][seed_list[0]][location_list[0]].keys())[10:]\n",
    "\n",
    "# Add keys to dictionaries\n",
    "for experiment in experiment_list:\n",
    "    results[experiment][\"minimum\"] = {}\n",
    "    results[experiment][\"first_q\"] = {}\n",
    "    results[experiment][\"average\"] = {}\n",
    "    results[experiment][\"third_q\"] = {}\n",
    "    results[experiment][\"maximum\"] = {}\n",
    "    for location in location_list:\n",
    "        results[experiment][\"minimum\"][location] = {}\n",
    "        results[experiment][\"first_q\"][location] = {}\n",
    "        results[experiment][\"average\"][location] = {}\n",
    "        results[experiment][\"third_q\"][location] = {}\n",
    "        results[experiment][\"maximum\"][location] = {}\n",
    "        for year in year_list:\n",
    "            results[experiment][\"minimum\"][location][year] = {}\n",
    "            results[experiment][\"first_q\"][location][year] = {}\n",
    "            results[experiment][\"average\"][location][year] = {}\n",
    "            results[experiment][\"third_q\"][location][year] = {}\n",
    "            results[experiment][\"maximum\"][location][year] = {}\n",
    "            \n",
    "\n",
    "\n",
    "# get min, avg and max downtimes\n",
    "for experiment in experiment_list:\n",
    "    for location in location_list:\n",
    "        for year in year_list:\n",
    "            dummy = []\n",
    "            for seed in seed_list:\n",
    "                dummy.append(results[experiment][seed][location][year]['downtimes'])\n",
    "            results[experiment][\"minimum\"][location][year]['downtimes'] = np.min(dummy)\n",
    "            results[experiment][\"first_q\"][location][year]['downtimes'] = np.percentile(dummy, 25)\n",
    "            results[experiment][\"average\"][location][year]['downtimes'] = np.mean(dummy)\n",
    "            results[experiment][\"third_q\"][location][year]['downtimes'] = np.percentile(dummy, 75)\n",
    "            results[experiment][\"maximum\"][location][year]['downtimes'] = np.max(dummy)\n",
    "\n",
    "# get min, avg and max avg_sense_reward\n",
    "for experiment in experiment_list:\n",
    "    for location in location_list:\n",
    "        for year in year_list:\n",
    "            dummy = []\n",
    "            for seed in seed_list:\n",
    "                avgsnsrwd = results[experiment][seed][location][year]['sense_reward_log'].mean()\n",
    "                results[experiment][seed][location][year]['avg_sense_reward'] = avgsnsrwd # add new entry\n",
    "                dummy.append(avgsnsrwd)\n",
    "            results[experiment][\"minimum\"][location][year]['avg_sense_reward'] = np.min(dummy)\n",
    "            results[experiment][\"first_q\"][location][year]['avg_sense_reward'] = np.percentile(dummy, 25)\n",
    "            results[experiment][\"average\"][location][year]['avg_sense_reward'] = np.mean(dummy)\n",
    "            results[experiment][\"third_q\"][location][year]['avg_sense_reward'] = np.percentile(dummy, 75)\n",
    "            results[experiment][\"maximum\"][location][year]['avg_sense_reward'] = np.max(dummy)\n",
    "            \n",
    "# get min, avg and max avg_enp_reward\n",
    "for experiment in experiment_list:\n",
    "    for location in location_list:\n",
    "        for year in year_list:\n",
    "            dummy = []\n",
    "            for seed in seed_list:\n",
    "                avgenprwd = results[experiment][seed][location][year]['enp_reward_log'].mean()\n",
    "                results[experiment][seed][location][year]['avg_enp_reward'] = avgenprwd # add new entry\n",
    "                dummy.append(avgenprwd)\n",
    "            results[experiment][\"minimum\"][location][year]['avg_enp_reward'] = np.min(dummy)\n",
    "            results[experiment][\"first_q\"][location][year]['avg_enp_reward'] = np.percentile(dummy, 25)\n",
    "            results[experiment][\"average\"][location][year]['avg_enp_reward'] = np.mean(dummy)\n",
    "            results[experiment][\"third_q\"][location][year]['avg_enp_reward'] = np.percentile(dummy, 75)\n",
    "            results[experiment][\"maximum\"][location][year]['avg_enp_reward'] = np.max(dummy)"
   ]
  },
  {
   "cell_type": "code",
   "execution_count": 6,
   "metadata": {
    "jupyter": {
     "source_hidden": true
    }
   },
   "outputs": [
    {
     "name": "stdout",
     "output_type": "stream",
     "text": [
      "tokyo\n"
     ]
    },
    {
     "data": {
      "image/png": "[encoded data removed]",
      "text/plain": [
       "<Figure size 251.064x155.169 with 2 Axes>"
      ]
     },
     "metadata": {
      "needs_background": "light"
     },
     "output_type": "display_data"
    }
   ],
   "source": [
    "# Downtimes and Sense Rewards\n",
    "\n",
    "single_column_figure_width = 3.487\n",
    "double_column_figure_width = 7\n",
    "\n",
    "fig_width = single_column_figure_width\n",
    "fig_height = fig_width / 1.618\n",
    "\n",
    "fig, axs = plt.subplots(nrows=2,\n",
    "                        ncols=1,\n",
    "                        figsize=[fig_width,fig_height], # in inches\n",
    "                        sharex=True)\n",
    "plt.subplots_adjust(left=None, bottom=None, right=None, top=None, wspace=None, hspace=.05)\n",
    "\n",
    "#######################################################################################\n",
    "# # left  = 0.125  # the left side of the subplots of the figure\n",
    "# # right = 0.9    # the right side of the subplots of the figure\n",
    "# # bottom = 0.1   # the bottom of the subplots of the figure\n",
    "# # top = 0.9      # the top of the subplots of the figure\n",
    "# # wspace = 0.2   # the amount of width reserved for blank space between subplots\n",
    "# # hspace = 0.2   # the amount of height reserved for white space between subplots\n",
    "#######################################################################################\n",
    "\n",
    "sense_reward_ax  = axs[0]\n",
    "downtimes_ax = axs[1]\n",
    "\n",
    "location = 'tokyo'\n",
    "print(location)\n",
    "\n",
    "# avg_sense_reward\n",
    "for experiment in experiment_list:\n",
    "    min_data = [results[experiment][\"minimum\"][location][year]['avg_sense_reward'] for year in year_list]\n",
    "    qt1_data = [results[experiment][\"first_q\"][location][year]['avg_sense_reward'] for year in year_list]\n",
    "    avg_data = [results[experiment][\"average\"][location][year]['avg_sense_reward'] for year in year_list]\n",
    "    qt3_data = [results[experiment][\"third_q\"][location][year]['avg_sense_reward'] for year in year_list]\n",
    "    max_data = [results[experiment][\"maximum\"][location][year]['avg_sense_reward'] for year in year_list]\n",
    "\n",
    "    \n",
    "    sense_reward_ax.fill_between(year_list, y1=qt1_data, y2=qt3_data, color=experiment_color[experiment],alpha=0.2)\n",
    "    sense_reward_ax.plot(year_list, avg_data, \n",
    "                         color=experiment_color[experiment], \n",
    "                         label=experiment_label[experiment])\n",
    "    # to group morl experiments together in the legend\n",
    "    if experiment == experiment_list[1]:\n",
    "        sense_reward_ax.plot(2010,0.9,color=\"w\", label=\" \")\n",
    "    \n",
    "    \n",
    "sense_reward_ax.text(0.15,0.75, 'Sense utility', \n",
    "         size='x-small', ha=\"center\", \n",
    "         transform=sense_reward_ax.transAxes)\n",
    "# sense_reward_ax.set_title('sense utility')\n",
    "# sense_reward_ax.set_ylabel('sense utility')    \n",
    "sense_reward_ax.legend(loc=\"lower left\",\n",
    "                       ncol=2,\n",
    "                       fontsize='x-small',\n",
    "                       bbox_to_anchor=(-0.02,0.9,1,1))\n",
    "sense_reward_ax.grid(which='major', axis='x', linestyle='--')\n",
    "\n",
    "# Downtimes\n",
    "for experiment in experiment_list:\n",
    "    min_data = [results[experiment][\"minimum\"][location][year]['downtimes'] for year in year_list]\n",
    "    qt1_data = [results[experiment][\"first_q\"][location][year]['downtimes'] for year in year_list]\n",
    "    avg_data = [results[experiment][\"average\"][location][year]['downtimes'] for year in year_list]\n",
    "    qt3_data = [results[experiment][\"third_q\"][location][year]['downtimes'] for year in year_list]\n",
    "    max_data = [results[experiment][\"maximum\"][location][year]['downtimes'] for year in year_list]\n",
    "    \n",
    "    width = 0.8/len(experiment_list)  # the width of the bars \n",
    "    xroot = np.array(year_list) # label locations\n",
    "    xoffset = 0.8/2 - experiment_list.index(experiment) \n",
    "    downtimes_ax.bar(xroot+xoffset*width, avg_data,width, yerr = [qt1_data,qt3_data], \n",
    "                     color=experiment_color[experiment], \n",
    "                     label=experiment_label[experiment],\n",
    "                     error_kw=dict(ecolor='black', lw=1, capsize=0.5, capthick=width*0.5, alpha=0.2))\n",
    "\n",
    "downtimes_ax.set_xticks(year_list[::5])\n",
    "downtimes_ax.set_xticklabels(year_list[::5], rotation=0)\n",
    "\n",
    "downtimes_ax.text(0.15,0.85, 'Downtimes', \n",
    "                 size='x-small', ha=\"center\", \n",
    "                 transform=downtimes_ax.transAxes)\n",
    "# downtimes_ax.set_title('downtimes')\n",
    "# downtimes_ax.set_ylabel('downtimes')    \n",
    "# downtimes_ax.legend(loc=\"lower left\",\n",
    "#                    ncol=1,\n",
    "#                    bbox_to_anchor=(0,0.8,1,1))\n",
    "downtimes_ax.grid(which='major', axis='y', linestyle='--')\n",
    "fig.savefig('./figures/runtime_morl-test.png', dpi=300, bbox_inches='tight', transparent=True)"
   ]
  },
  {
   "cell_type": "code",
   "execution_count": null,
   "metadata": {
    "jupyter": {
     "source_hidden": true
    }
   },
   "outputs": [],
   "source": []
  }
 ],
 "metadata": {
  "kernelspec": {
   "display_name": "Python 3",
   "language": "python",
   "name": "python3"
  },
  "language_info": {
   "codemirror_mode": {
    "name": "ipython",
    "version": 3
   },
   "file_extension": ".py",
   "mimetype": "text/x-python",
   "name": "python",
   "nbconvert_exporter": "python",
   "pygments_lexer": "ipython3",
   "version": "3.6.10"
  }
 },
 "nbformat": 4,
 "nbformat_minor": 4
}
