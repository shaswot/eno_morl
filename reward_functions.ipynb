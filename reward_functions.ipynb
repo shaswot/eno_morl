{
 "cells": [
  {
   "cell_type": "code",
   "execution_count": 6,
   "metadata": {},
   "outputs": [],
   "source": [
    "import numpy as np\n",
    "import matplotlib.pyplot as plt"
   ]
  },
  {
   "cell_type": "code",
   "execution_count": 7,
   "metadata": {},
   "outputs": [],
   "source": [
    "plt.rc('xtick', labelsize=8)\n",
    "plt.rc('ytick', labelsize=8)\n",
    "plt.rc('axes', labelsize=8)"
   ]
  },
  {
   "cell_type": "code",
   "execution_count": 8,
   "metadata": {},
   "outputs": [],
   "source": [
    "# def k_reward(x,k=-0.8):\n",
    "#     x = (x-0.1)/0.9\n",
    "#     y = (x-k*x)/(k-2*k*np.abs(x)+1)\n",
    "#     reward = y*0.7 +0.1\n",
    "#     return reward\n",
    "\n",
    "def tx_rewardfn(x,k=-0.8):\n",
    "    x = (x-0.1)/0.9\n",
    "    y = (x-k*x)/(k-2*k*np.abs(x)+1)\n",
    "    kreward = y*0.7 +0.1\n",
    "    return kreward\n",
    "\n",
    "def enp_reward(x, bth=0.8):\n",
    "    return np.where(x >= bth, 1,(x-0.1)/(bth-0.1))\n",
    "    \n",
    "\n",
    "\n",
    "# a1 = k_reward(conformity,0.5)\n",
    "# a1 = k_reward(conformity,0.5)"
   ]
  },
  {
   "cell_type": "code",
   "execution_count": 12,
   "metadata": {},
   "outputs": [
    {
     "data": {
      "image/png": "[encoded data removed]",
      "text/plain": [
       "<Figure size 251.064x93.1016 with 2 Axes>"
      ]
     },
     "metadata": {
      "needs_background": "light"
     },
     "output_type": "display_data"
    }
   ],
   "source": [
    "single_column_figure_width = 3.487\n",
    "double_column_figure_width = 7\n",
    "\n",
    "fig_width = single_column_figure_width\n",
    "fig_height = fig_width / 1.618 *0.6\n",
    "\n",
    "fig, axs = plt.subplots(nrows=1,\n",
    "                        ncols=2,\n",
    "                        figsize=[fig_width,fig_height], # in inches\n",
    "                        sharey=True)\n",
    "plt.subplots_adjust(left=None, bottom=None, right=None, top=None, wspace=.05, hspace=.05)\n",
    "\n",
    "task_ax = axs[0]\n",
    "enp_ax = axs[1]\n",
    "# task_ax = axs\n",
    "\n",
    "conformity = np.linspace(0.1,1,100)\n",
    "task_ax.plot(conformity,conformity, label='sense-utility')\n",
    "task_ax.plot(conformity,tx_rewardfn(conformity), label='concave-utility')\n",
    "\n",
    "\n",
    "enp_r = enp_reward(conformity)\n",
    "enp_ax.plot(conformity,enp_r,color=\"tab:green\", label=\"ENP-utility\" )\n",
    "enp_ax.vlines(x=0.8, ymin=0, ymax=1, colors=\"k\", linestyles='--', linewidth = 0.5)\n",
    "enp_ax.text(0.73,0.6, r'$b_{th}$', size='x-small', ha='center', va='center', \n",
    "            rotation='vertical',  transform=enp_ax.transAxes)\n",
    "enp_ax.legend(fontsize='x-small',loc = \"lower right\")\n",
    "\n",
    "enp_ax.text(0.47,-0.12, \n",
    "            r'mean battery, $\\bar{b}$', \n",
    "            size='small', \n",
    "            ha='center', va='center', \n",
    "            transform=enp_ax.transAxes)\n",
    "enp_ax.set_xticks([1])\n",
    "enp_ax.grid(True)\n",
    "\n",
    "\n",
    "\n",
    "task_ax.text(0.3,0.9, r'Demand, $d = 1$', \n",
    "             size='x-small', ha='center', va='center', \n",
    "             transform=task_ax.transAxes)\n",
    "\n",
    "task_ax.text(0.47,-0.12, \n",
    "            r'conformity, $k$', \n",
    "            size='small', \n",
    "            ha='center', va='center', \n",
    "            transform=task_ax.transAxes)\n",
    "task_ax.set_ylabel(r\"reward, $r$\")\n",
    "task_ax.set_xticks([1])\n",
    "\n",
    "task_ax.legend(fontsize='x-small',loc = \"lower right\")\n",
    "task_ax.grid(True)\n",
    "fig.savefig('./figures/reward_fns.png', dpi=300, bbox_inches='tight', transparent=True)"
   ]
  }
 ],
 "metadata": {
  "kernelspec": {
   "display_name": "Python 3",
   "language": "python",
   "name": "python3"
  },
  "language_info": {
   "codemirror_mode": {
    "name": "ipython",
    "version": 3
   },
   "file_extension": ".py",
   "mimetype": "text/x-python",
   "name": "python",
   "nbconvert_exporter": "python",
   "pygments_lexer": "ipython3",
   "version": "3.7.4"
  }
 },
 "nbformat": 4,
 "nbformat_minor": 4
}
