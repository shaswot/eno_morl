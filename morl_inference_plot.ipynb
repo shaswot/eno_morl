{
 "cells": [
  {
   "cell_type": "code",
   "execution_count": 1,
   "metadata": {},
   "outputs": [],
   "source": [
    "import numpy as np\n",
    "import matplotlib.pyplot as plt\n",
    "from matplotlib.lines import Line2D\n",
    "from matplotlib.patches import Ellipse"
   ]
  },
  {
   "cell_type": "code",
   "execution_count": 2,
   "metadata": {},
   "outputs": [],
   "source": [
    "plt.rc('xtick', labelsize=8)\n",
    "plt.rc('ytick', labelsize=8)\n",
    "plt.rc('axes', labelsize=8)"
   ]
  },
  {
   "cell_type": "code",
   "execution_count": 3,
   "metadata": {},
   "outputs": [],
   "source": [
    "resolution = 10"
   ]
  },
  {
   "cell_type": "code",
   "execution_count": 4,
   "metadata": {},
   "outputs": [],
   "source": [
    "def k_reward(x,k=0.95):\n",
    "    x = (x-0.1)/0.9\n",
    "    y = (x-k*x)/(k-2*k*np.abs(x)+1)\n",
    "    reward = 1-y\n",
    "    return reward"
   ]
  },
  {
   "cell_type": "code",
   "execution_count": 9,
   "metadata": {},
   "outputs": [
    {
     "data": {
      "image/png": "[encoded data removed]",
      "text/plain": [
       "<Figure size 251.064x155.169 with 1 Axes>"
      ]
     },
     "metadata": {
      "needs_background": "light"
     },
     "output_type": "display_data"
    }
   ],
   "source": [
    "single_column_figure_width = 3.487\n",
    "double_column_figure_width = 7\n",
    "\n",
    "fig_width = single_column_figure_width\n",
    "fig_height = fig_width / 1.618\n",
    "\n",
    "fig, axs = plt.subplots(nrows=1,\n",
    "                        ncols=1,\n",
    "                        figsize=[fig_width,fig_height], # in inches\n",
    "                        sharey=True)\n",
    "plt.subplots_adjust(left=None, bottom=None, right=None, top=None, wspace=.05, hspace=.05)\n",
    "\n",
    "axs.set_xlabel(\"Value for Objective 1\")\n",
    "axs.set_ylabel(\"Value for Objective 2\")\n",
    "axs.set_ylim([-0.25,1.25])\n",
    "axs.set_xlim([0,1.25])\n",
    "\n",
    "axs.set_xticklabels([])\n",
    "axs.set_yticklabels([])\n",
    "\n",
    "col = [\"tab:blue\",\"tab:orange\",\"tab:purple\"]\n",
    "markerlist = ['P','*','v']\n",
    "\n",
    "conformity = np.linspace(0.1,1,100)\n",
    "i=0\n",
    "for k in [0.5, 0, -0.9]:\n",
    "    r = k_reward(conformity,k)\n",
    "    axs.plot(conformity,r, linestyle='--', alpha=0.5, color=col[i])\n",
    "    i+=1\n",
    "    \n",
    "pareto_points_x = [0.1, 1.0]\n",
    "pareto_points_y = [1.0, 0.0]\n",
    "axs.scatter(pareto_points_x[0], pareto_points_y[0], marker='s', color=\"tab:green\")\n",
    "axs.scatter(pareto_points_x[1], pareto_points_y[1], marker='s', color=\"tab:red\")\n",
    "\n",
    "intrp_points_x1 = np.array([0.5, 0.8])\n",
    "intrp_points_x2 = np.array([0.3, 0.75])\n",
    "intrp_points_x3 = np.array([0.2, 0.6])\n",
    "\n",
    "intrp_points_y1 = k_reward(intrp_points_x1,k=0.5)\n",
    "intrp_points_y2 = k_reward(intrp_points_x2,k=0.0)\n",
    "intrp_points_y3 = k_reward(intrp_points_x3,k=-0.9)\n",
    "\n",
    "\n",
    "for i in range(2):\n",
    "    axs.scatter(intrp_points_x1[i], intrp_points_y1[i],  color=col[0],  marker=markerlist[i])\n",
    "    axs.scatter(intrp_points_x2[i], intrp_points_y2[i],  color=col[1],  marker=markerlist[i])\n",
    "    axs.scatter(intrp_points_x3[i], intrp_points_y3[i],  color=col[2],  marker=markerlist[i])\n",
    "\n",
    "axs.text(0.02,1.1,r'$Q^{\\pi_2}(s, \\pi_2(s))$')\n",
    "axs.text(0.8,-0.2,r'$Q^{\\pi_1}(s, \\pi_1(s))$')\n",
    "\n",
    "legend_elements = [Line2D([0], [0], marker='s', \n",
    "                          color='w', label='Greedy Actions', \n",
    "                          markerfacecolor='k', markersize=7),\n",
    "                  Line2D([0], [0], marker=markerlist[0], \n",
    "                          color='w', label='Sampled Action 1', \n",
    "                          markerfacecolor='k', markersize=9),\n",
    "                  Line2D([0], [0], marker=markerlist[1], \n",
    "                          color='w', label='Sampled Action 2', \n",
    "                          markerfacecolor='k', markersize=10)]\n",
    "\n",
    "\n",
    "ellipse1 = Ellipse(xy=(0.35,0.6), width=0.9, height=0.35, angle=60, alpha=0.2,\n",
    "                        edgecolor=u'orchid', fc=u'orchid', lw=1.5,linestyle='--', )\n",
    "\n",
    "ellipse2 = Ellipse(xy=(0.7,0.25), width=0.6, height=0.3, angle=70, alpha=0.2,\n",
    "                        edgecolor=u'peru', fc=u'peru', lw=1.5,linestyle='--', )\n",
    "axs.add_patch(ellipse1)\n",
    "axs.add_patch(ellipse2)\n",
    "\n",
    "axs.legend(handles=legend_elements,\n",
    "          fontsize='x-small')\n",
    "axs.grid()\n",
    "fig.savefig('./figures/morl_inference.png', dpi=300, bbox_inches='tight', transparent=True)"
   ]
  },
  {
   "cell_type": "code",
   "execution_count": null,
   "metadata": {},
   "outputs": [],
   "source": []
  }
 ],
 "metadata": {
  "kernelspec": {
   "display_name": "Python 3",
   "language": "python",
   "name": "python3"
  },
  "language_info": {
   "codemirror_mode": {
    "name": "ipython",
    "version": 3
   },
   "file_extension": ".py",
   "mimetype": "text/x-python",
   "name": "python",
   "nbconvert_exporter": "python",
   "pygments_lexer": "ipython3",
   "version": "3.6.10"
  }
 },
 "nbformat": 4,
 "nbformat_minor": 4
}
