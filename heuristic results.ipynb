{
 "cells": [
  {
   "cell_type": "code",
   "execution_count": 1,
   "metadata": {
    "jupyter": {
     "source_hidden": true
    }
   },
   "outputs": [],
   "source": [
    "import numpy as np\n",
    "import matplotlib\n",
    "import matplotlib.pyplot as plt\n",
    "import os"
   ]
  },
  {
   "cell_type": "code",
   "execution_count": 2,
   "metadata": {
    "jupyter": {
     "source_hidden": true
    }
   },
   "outputs": [],
   "source": [
    "# Get seedlist\n",
    "file = 'seedlist.dat'\n",
    "with open(file) as f:\n",
    "    seed_list = []\n",
    "    for line in f: # read rest of lines\n",
    "        seed_list.append([int(x) for x in line.split()][0])\n",
    "# print(seed_list)"
   ]
  },
  {
   "cell_type": "code",
   "execution_count": 3,
   "metadata": {
    "jupyter": {
     "source_hidden": true
    }
   },
   "outputs": [
    {
     "name": "stdout",
     "output_type": "stream",
     "text": [
      "test\n"
     ]
    }
   ],
   "source": [
    "# Set mode to train or test\n",
    "mode = \"test\"\n",
    "print(mode)"
   ]
  },
  {
   "cell_type": "code",
   "execution_count": 4,
   "metadata": {
    "jupyter": {
     "source_hidden": true
    }
   },
   "outputs": [],
   "source": [
    "# Define list of experiments to analyze for given seed\n",
    "experiment_list=[\n",
    "'cenp_t24_random-k7'\n",
    "\n",
    "]"
   ]
  },
  {
   "cell_type": "code",
   "execution_count": 5,
   "metadata": {
    "jupyter": {
     "source_hidden": true
    }
   },
   "outputs": [],
   "source": [
    "results = {} # dictionary to hold experimental data\n",
    "# results[experiment][seed_no]"
   ]
  },
  {
   "cell_type": "code",
   "execution_count": 6,
   "metadata": {
    "jupyter": {
     "source_hidden": true
    }
   },
   "outputs": [],
   "source": [
    "for experiment in experiment_list:\n",
    "    results[experiment]={}        \n",
    "    for seed_no in seed_list:\n",
    "        # Load data of experiment and store in a dictionary\n",
    "        tag = experiment + '-' + str(seed_no)\n",
    "        cur_folder = os.getcwd()\n",
    "        exp_results_folder = os.path.join(cur_folder,\"results\", experiment, mode) # experiment folder\n",
    "        exp_results_file = os.path.join(exp_results_folder, tag + '-'+ mode + '.npy') # experiment data file\n",
    "        exp_result = np.load(exp_results_file,allow_pickle='TRUE').item()\n",
    "        results[experiment][seed_no] = exp_result # load to dictionary"
   ]
  },
  {
   "cell_type": "code",
   "execution_count": 7,
   "metadata": {
    "jupyter": {
     "source_hidden": true
    }
   },
   "outputs": [],
   "source": [
    "experiment = experiment_list[0]\n",
    "seed = seed_list[0]\n",
    "location = 'tokyo'"
   ]
  },
  {
   "cell_type": "code",
   "execution_count": 8,
   "metadata": {
    "jupyter": {
     "source_hidden": true
    }
   },
   "outputs": [],
   "source": [
    "exp_test_log = results[experiment][seed]"
   ]
  },
  {
   "cell_type": "code",
   "execution_count": 9,
   "metadata": {
    "jupyter": {
     "source_hidden": true
    }
   },
   "outputs": [
    {
     "name": "stdout",
     "output_type": "stream",
     "text": [
      "\n",
      "\n",
      "***TEST RESULTS****\n",
      "Tag: cenp_t24_random-k7-382084\n",
      "Seed: 382084\n",
      "LOCATION     YEAR   HMEAN    REQ_MEAN AVG_DC   SNS_RWD  ENP_RWD  AVG_RWD  DOWNTIMES\n",
      "tokyo        1995   0.127    0.136    0.109    0.868    0.944    0.944      0  \n",
      "tokyo        1996   0.131    0.137    0.110    0.869    0.936    0.936      2  \n",
      "tokyo        1997   0.131    0.137    0.112    0.876    0.929    0.929      2  \n",
      "tokyo        1998   0.113    0.132    0.107    0.871    0.901    0.901      3  \n",
      "tokyo        1999   0.130    0.136    0.110    0.868    0.933    0.933      1  \n",
      "tokyo        2000   0.132    0.137    0.111    0.874    0.928    0.928      3  \n",
      "tokyo        2001   0.132    0.137    0.110    0.867    0.882    0.882      1  \n",
      "tokyo        2002   0.133    0.137    0.110    0.868    0.900    0.900      2  \n",
      "tokyo        2003   0.123    0.135    0.108    0.870    0.924    0.924      2  \n",
      "tokyo        2004   0.141    0.139    0.113    0.873    0.897    0.897      2  \n",
      "tokyo        2005   0.133    0.137    0.110    0.867    0.870    0.870      0  \n",
      "tokyo        2006   0.119    0.133    0.108    0.869    0.916    0.916      3  \n",
      "tokyo        2007   0.136    0.138    0.111    0.869    0.895    0.895      1  \n",
      "tokyo        2008   0.131    0.137    0.110    0.869    0.881    0.881      1  \n",
      "tokyo        2009   0.130    0.136    0.110    0.871    0.910    0.910      1  \n",
      "tokyo        2010   0.138    0.139    0.111    0.869    0.867    0.867      1  \n",
      "tokyo        2011   0.142    0.140    0.114    0.875    0.979    0.979      1  \n",
      "tokyo        2012   0.144    0.140    0.114    0.874    0.940    0.940      1  \n",
      "tokyo        2013   0.148    0.141    0.115    0.874    0.926    0.926      0  \n",
      "tokyo        2014   0.143    0.140    0.113    0.870    0.956    0.956      1  \n",
      "tokyo        2015   0.136    0.138    0.111    0.869    0.902    0.902      1  \n",
      "tokyo        2016   0.132    0.137    0.110    0.868    0.851    0.851      2  \n",
      "tokyo        2017   0.141    0.140    0.113    0.872    0.952    0.952      1  \n",
      "tokyo        2018   0.145    0.141    0.114    0.871    0.969    0.969      1  \n"
     ]
    }
   ],
   "source": [
    "# summarize metrics and display\n",
    "print(\"\\n\\n***TEST RESULTS****\")\n",
    "tag = experiment + '-' + str(seed)\n",
    "print(\"Tag:\", tag)\n",
    "print(\"Seed:\", seed)\n",
    "\n",
    "print(\"LOCATION\".ljust(12), \"YEAR\".ljust(6), \"HMEAN\".ljust(8), \"REQ_MEAN\".ljust(8), \"AVG_DC\".ljust(8), \n",
    "      \"SNS_RWD\".ljust(8), \"ENP_RWD\".ljust(8), \"AVG_RWD\".ljust(8), \"DOWNTIMES\".ljust(9))\n",
    "\n",
    "exp_result = exp_test_log\n",
    "location_list = list(exp_result.keys())\n",
    "for location in location_list:\n",
    "    yr_list = list(exp_result[location].keys())\n",
    "    for year in yr_list:\n",
    "        run_log = exp_result[location][year]\n",
    "        # Print summarized metrics\n",
    "        print(location.ljust(12), year, end=' ')\n",
    "        sense_avg_rwd = run_log['sense_reward_log'].mean()\n",
    "        enp_avg_rwd = run_log['enp_reward_log'].mean()\n",
    "\n",
    "        average_rwd = run_log['avg_rwd']\n",
    "        total_downtimes = run_log['downtimes']\n",
    "        hmean = run_log['avg_henergy']\n",
    "        reqmean = run_log['avg_req']\n",
    "        sense_dc_mean = run_log['sense_dc_log'].mean()\n",
    "\n",
    "        print(f'{hmean:7.3f}',end='  ')\n",
    "        print(f'{reqmean:7.3f}',end='  ')\n",
    "        print(f'{sense_dc_mean:7.3f}',end='  ')\n",
    "        print(f'{sense_avg_rwd:7.3f}',end='  ')\n",
    "        print(f'{enp_avg_rwd:7.3f}',end='  ')\n",
    "        print(f'{average_rwd:7.3f}',end='  ')\n",
    "        print(f'{total_downtimes:5d}',end='  ')\n",
    "        print(\"\")"
   ]
  },
  {
   "cell_type": "code",
   "execution_count": null,
   "metadata": {
    "jupyter": {
     "source_hidden": true
    }
   },
   "outputs": [],
   "source": []
  }
 ],
 "metadata": {
  "kernelspec": {
   "display_name": "Python 3",
   "language": "python",
   "name": "python3"
  },
  "language_info": {
   "codemirror_mode": {
    "name": "ipython",
    "version": 3
   },
   "file_extension": ".py",
   "mimetype": "text/x-python",
   "name": "python",
   "nbconvert_exporter": "python",
   "pygments_lexer": "ipython3",
   "version": "3.6.10"
  }
 },
 "nbformat": 4,
 "nbformat_minor": 4
}
