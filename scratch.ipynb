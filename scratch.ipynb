{
 "cells": [
  {
   "cell_type": "code",
   "execution_count": 9,
   "metadata": {},
   "outputs": [],
   "source": [
    "import numpy as np\n",
    "import os"
   ]
  },
  {
   "cell_type": "code",
   "execution_count": 10,
   "metadata": {},
   "outputs": [],
   "source": [
    "# test_results = np.load('./results/all_test_results.npy',allow_pickle='TRUE').item()\n",
    "# results = test_results\n",
    "# all_experiment_list = list(results.keys())"
   ]
  },
  {
   "cell_type": "code",
   "execution_count": 11,
   "metadata": {},
   "outputs": [],
   "source": [
    "# # create results folders\n",
    "# cur_folder = os.getcwd()\n",
    "# for exp_tag in all_experiment_list:\n",
    "#     train_results_folder = os.path.join(cur_folder,\"results\", exp_tag, \"train\")\n",
    "#     test_results_folder = os.path.join(cur_folder,\"results\", exp_tag, \"test\")\n",
    "#     if not os.path.exists(train_results_folder): \n",
    "#         os.makedirs(train_results_folder) \n",
    "#     if not os.path.exists(test_results_folder): \n",
    "#         os.makedirs(test_results_folder) "
   ]
  },
  {
   "cell_type": "code",
   "execution_count": 16,
   "metadata": {},
   "outputs": [],
   "source": [
    "# # create files from each dict entry\n",
    "# cur_folder = os.getcwd()\n",
    "\n",
    "# mode = \"train\"\n",
    "# all_results_dict_file = os.path.join(cur_folder,\"results\", 'all_'+ mode + '_results.npy')\n",
    "# results = np.load(all_results_dict_file, allow_pickle='TRUE').item()\n",
    "# all_experiment_list = list(results.keys())\n",
    "\n",
    "\n",
    "# for exp_tag in all_experiment_list:\n",
    "#     exp_results_folder = os.path.join(cur_folder,\"results\", exp_tag, mode)\n",
    "#     for seed_tag in results[exp_tag].keys():\n",
    "#         dict_file = os.path.join(exp_results_folder, exp_tag + '-' + str(seed_tag) + '-'+ mode +'.npy')\n",
    "#         data = results[exp_tag][seed_tag]\n",
    "#         np.save(dict_file, data)"
   ]
  },
  {
   "cell_type": "code",
   "execution_count": 5,
   "metadata": {},
   "outputs": [],
   "source": [
    "# cur_folder = os.getcwd()\n",
    "# for exp_tag in all_experiment_list:\n",
    "#     model_folder = os.path.join(cur_folder,\"models\", exp_tag)\n",
    "#     print(model_folder)\n",
    "#     if not os.path.exists(model_folder): \n",
    "#             os.makedirs(model_folder) "
   ]
  },
  {
   "cell_type": "code",
   "execution_count": 6,
   "metadata": {},
   "outputs": [],
   "source": [
    "# !jupyter nbconvert --to script notebook.ipynb"
   ]
  },
  {
   "cell_type": "code",
   "execution_count": 7,
   "metadata": {},
   "outputs": [],
   "source": [
    "# file = 'seedlist.dat'\n",
    "# with open(file) as f:\n",
    "#     seed_list = []\n",
    "#     for line in f: # read rest of lines\n",
    "#         seed_list.append([int(x) for x in line.split()][0])"
   ]
  },
  {
   "cell_type": "code",
   "execution_count": 8,
   "metadata": {},
   "outputs": [],
   "source": [
    "# if os.path.exists(file):\n",
    "#     while not file_open_success and no_of_tries<MAX_TRYS:\n",
    "#         try:\n",
    "#             results = np.load(file,allow_pickle='TRUE').item()\n",
    "#             file_open_success = True\n",
    "#         except:\n",
    "#             file_open_success = False\n",
    "#             time.sleep(WAIT_TIME)\n",
    "#             no_of_tries += 1\n",
    "#         else:\n",
    "#             print(seed, \": File accessed\")\n",
    "#     if not file_open_success:\n",
    "#          print(seed, \": File cannot be accessed\")"
   ]
  }
 ],
 "metadata": {
  "kernelspec": {
   "display_name": "Python 3",
   "language": "python",
   "name": "python3"
  },
  "language_info": {
   "codemirror_mode": {
    "name": "ipython",
    "version": 3
   },
   "file_extension": ".py",
   "mimetype": "text/x-python",
   "name": "python",
   "nbconvert_exporter": "python",
   "pygments_lexer": "ipython3",
   "version": "3.7.4"
  }
 },
 "nbformat": 4,
 "nbformat_minor": 4
}
