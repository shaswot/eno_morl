{
 "cells": [
  {
   "cell_type": "code",
   "execution_count": 1,
   "metadata": {},
   "outputs": [],
   "source": [
    "# import torch\n",
    "\n",
    "# use_cuda = torch.cuda.is_available()\n",
    "# device   = torch.device(\"cuda:0\" if use_cuda else \"cpu\")\n",
    "\n",
    "# device"
   ]
  },
  {
   "cell_type": "code",
   "execution_count": 1,
   "metadata": {},
   "outputs": [],
   "source": [
    "import numpy as np\n",
    "import os\n",
    "import matplotlib.pyplot as plt"
   ]
  },
  {
   "cell_type": "code",
   "execution_count": 8,
   "metadata": {},
   "outputs": [
    {
     "name": "stdout",
     "output_type": "stream",
     "text": [
      "(0.22226084143933297, 0.17476874183217672, 0.6029704167284903)\n"
     ]
    }
   ],
   "source": [
    "# pref = np.random.random(3)\n",
    "# pref /= pref.sum()\n",
    "# pref = tuple(pref)\n",
    "\n",
    "# print(pref)"
   ]
  },
  {
   "cell_type": "code",
   "execution_count": 47,
   "metadata": {},
   "outputs": [],
   "source": [
    "sns = np.array((1,2))\n",
    "tx = np.array((3,5))\n",
    "enp = np.array((6,4))\n",
    "    \n",
    "iset1 = np.linspace(sns, tx, num=4)[1:-1]\n",
    "iset2 = np.linspace(sns, enp, num=4)[1:-1]\n",
    "iset3 = np.linspace(tx, enp, num=4)[1:-1]\n",
    "centroid = (sns+tx+enp)/3\n",
    "\n",
    "allpnts = np.vstack((sns, tx, enp, iset1, iset2, iset3, centroid))\n",
    "for pnt in allpnts:\n",
    "    plt.scatter(pnt[0], pnt[1])"
   ]
  },
  {
   "cell_type": "code",
   "execution_count": 36,
   "metadata": {},
   "outputs": [
    {
     "data": {
      "text/plain": [
       "array([[1.66666667, 3.        ],\n",
       "       [2.33333333, 4.        ],\n",
       "       [2.66666667, 2.66666667],\n",
       "       [4.33333333, 3.33333333],\n",
       "       [4.        , 4.66666667],\n",
       "       [5.        , 4.33333333]])"
      ]
     },
     "execution_count": 36,
     "metadata": {},
     "output_type": "execute_result"
    }
   ],
   "source": [
    "allpnts"
   ]
  },
  {
   "cell_type": "code",
   "execution_count": null,
   "metadata": {},
   "outputs": [],
   "source": []
  },
  {
   "cell_type": "code",
   "execution_count": null,
   "metadata": {},
   "outputs": [],
   "source": []
  },
  {
   "cell_type": "code",
   "execution_count": 15,
   "metadata": {},
   "outputs": [],
   "source": [
    "iset1 = np.linspace(start=min(1,4),\n",
    "                    stop=max(1,4),\n",
    "                    num=4)[1:-1]"
   ]
  },
  {
   "cell_type": "code",
   "execution_count": null,
   "metadata": {},
   "outputs": [],
   "source": []
  },
  {
   "cell_type": "code",
   "execution_count": null,
   "metadata": {},
   "outputs": [],
   "source": []
  },
  {
   "cell_type": "code",
   "execution_count": 42,
   "metadata": {},
   "outputs": [
    {
     "name": "stdout",
     "output_type": "stream",
     "text": [
      "step  state   action  reward    next_state  done    \n",
      "  0   0.700   0.500     0.854   0.695      False\n",
      "  1   0.695   0.500     0.848   0.687      False\n",
      "  2   0.687   0.500     0.844   0.682      False\n",
      "  3   0.682   0.500     0.840   0.677      False\n"
     ]
    }
   ],
   "source": [
    "# from common.env_lib import cenp\n",
    "# env = cenp()\n",
    "# env_location = 'tokyo'\n",
    "# year = 1995\n",
    "# timeslots_per_day = 24\n",
    "# REQ_TYPE = \"random\"\n",
    "# prediction_horizon = 10*timeslots_per_day\n",
    "# henergy_mean= 0.13904705134356052 # 10yr hmean for tokyo\n",
    "\n",
    "# env.set_env(env_location, year, timeslots_per_day, \n",
    "#                 REQ_TYPE, offset=timeslots_per_day/2,\n",
    "#                 p_horizon=prediction_horizon,\n",
    "#                 hmean=henergy_mean)\n",
    "# state = env.reset()\n",
    "\n",
    "# action = 0.5\n",
    "\n",
    "# print(\"step\".ljust(5), \"state\".ljust(7), \"action\".ljust(7), \"reward\".ljust(8), \" next_state\".ljust(12), \"done\".ljust(8))\n",
    "# for i in range(4):\n",
    "#     next_state, reward, done, _ = env.step(action)\n",
    "#     ep_done = done or env.RECOVERY_MODE\n",
    "#     print(f'{i:3d}',end='')\n",
    "#     print(f'{state[3]:8.3f}',end='')\n",
    "#     print(f'{action:8.3f}',end='')\n",
    "#     print(f'{reward:10.3f}',end='')\n",
    "#     print(f'{next_state[3]:8.3f}',end='      ')\n",
    "#     print(ep_done,end='\\n')\n",
    "#     state = next_state\n",
    "\n",
    "# # for tuple rewards\n",
    "\n",
    "# # print(\"step\".ljust(5), \"state\".ljust(7), \"action\".ljust(7), \"rwd[0]\".ljust(8), \"rwd[1]\".ljust(8), \"done\".ljust(8))\n",
    "# # for i in range(40):\n",
    "# #     next_state, reward, done, _ = env.step(action)\n",
    "# #     ep_done = done or env.RECOVERY_MODE\n",
    "# #     print(f'{i:3d}',end='')\n",
    "# #     print(f'{state[3]:8.3f}',end='')\n",
    "# #     print(f'{action:8.3f}',end='')\n",
    "# #     print(f'{reward[0]:8.3f}',end='')\n",
    "# #     print(f'{reward[1]:8.3f}',end='    ')\n",
    "# #     print(ep_done,end='\\n')\n",
    "# #     state = next_state"
   ]
  },
  {
   "cell_type": "code",
   "execution_count": 15,
   "metadata": {},
   "outputs": [
    {
     "data": {
      "image/png": "[encoded data removed]",
      "text/plain": [
       "<Figure size 432x288 with 1 Axes>"
      ]
     },
     "metadata": {
      "needs_background": "light"
     },
     "output_type": "display_data"
    },
    {
     "data": {
      "image/png": "[encoded data removed]",
      "text/plain": [
       "<Figure size 432x288 with 1 Axes>"
      ]
     },
     "metadata": {
      "needs_background": "light"
     },
     "output_type": "display_data"
    }
   ],
   "source": [
    "# def get_sigma(step, max_sigma=0.15, min_sigma=0.01, decay_period=None):\n",
    "#     sigma = max_sigma - (max_sigma - min_sigma) * min(1.0, step / decay_period)\n",
    "#     return sigma\n",
    "\n",
    "# # Exploration Policy\n",
    "# timeslots_per_day = 24\n",
    "# max_sigma = 0.7\n",
    "# min_sigma = 0.01\n",
    "# decay_period = 30 * timeslots_per_day \n",
    "\n",
    "\n",
    "# noise_log = []\n",
    "\n",
    "\n",
    "# for yr in range(10):\n",
    "#     step = 0\n",
    "#     episode = 0\n",
    "#     for t in range(1, 365 * timeslots_per_day):\n",
    "#         if t%timeslots_per_day == 0:\n",
    "#             episode +=1\n",
    "#             step = episode\n",
    "#         else:\n",
    "#             step += 1\n",
    "            \n",
    "#         if np.random.random() > 0.9:\n",
    "#             step-= timeslots_per_day\n",
    "#             step = max(0,step)\n",
    "#         noise = get_sigma(step, max_sigma, min_sigma, decay_period)\n",
    "#         noise_log.append(noise)\n",
    "# plt.plot(noise_log)\n",
    "# plt.show()\n",
    "# plt.plot(noise_log[0:5 * timeslots_per_day ])\n",
    "# plt.show()"
   ]
  },
  {
   "cell_type": "code",
   "execution_count": 4,
   "metadata": {},
   "outputs": [],
   "source": [
    "# def k_factor(batt,k=0.95):\n",
    "#     x = (batt-0.1)/0.9\n",
    "#     y = (x-k*x)/(k-2*k*x+1)\n",
    "#     action = y\n",
    "#     return action\n",
    "\n",
    "# batt = np.linspace(0.1,1,100)\n",
    "# a1 = k_factor(batt,0.5)\n",
    "# a2 = k_factor(batt,0.6)\n",
    "# a3 = k_factor(batt,0.7)\n",
    "# a4 = k_factor(batt,0.8)\n",
    "# a5 = k_factor(batt,0.9)\n",
    "\n",
    "# plt.xlabel(\"batt\")\n",
    "# plt.ylabel(\"action\")\n",
    "# plt.plot(batt,a1, label='k=0.5')\n",
    "# plt.plot(batt,a2, label='k=0.6')\n",
    "# plt.plot(batt,a3, label='k=0.7')\n",
    "# plt.plot(batt,a4, label='k=0.8')\n",
    "# plt.plot(batt,a5, label='k=0.9')\n",
    "# plt.legend()\n",
    "# plt.grid(True)"
   ]
  },
  {
   "cell_type": "code",
   "execution_count": 5,
   "metadata": {},
   "outputs": [],
   "source": [
    "# def k_reward(x,k=0.95):\n",
    "#     x = (x-0.1)/0.9\n",
    "#     y = (x-k*x)/(k-2*k*np.abs(x)+1)\n",
    "#     reward = y\n",
    "#     return reward\n",
    "\n",
    "# conformity = np.linspace(0.1,1,100)\n",
    "# for k in [0,-0.2,-0.5,-0.7, -0.8, -0.9, -0.95]:\n",
    "#     r = k_reward(conformity,k)\n",
    "#     plt.plot(conformity,r, label=str(-k))\n",
    "\n",
    "# # a1 = k_reward(conformity,0.5)\n",
    "# # a1 = k_reward(conformity,0.5)\n",
    "\n",
    "\n",
    "# plt.xlabel(\"conformity\")\n",
    "# plt.ylabel(\"reward\")\n",
    "\n",
    "# plt.legend()\n",
    "# plt.grid(True)"
   ]
  },
  {
   "cell_type": "code",
   "execution_count": 6,
   "metadata": {},
   "outputs": [],
   "source": [
    "# test_results = np.load('./results/all_test_results.npy',allow_pickle='TRUE').item()\n",
    "# results = test_results\n",
    "# all_experiment_list = list(results.keys())"
   ]
  },
  {
   "cell_type": "code",
   "execution_count": 7,
   "metadata": {},
   "outputs": [],
   "source": [
    "# # create results folders\n",
    "# cur_folder = os.getcwd()\n",
    "# for exp_tag in all_experiment_list:\n",
    "#     train_results_folder = os.path.join(cur_folder,\"results\", exp_tag, \"train\")\n",
    "#     test_results_folder = os.path.join(cur_folder,\"results\", exp_tag, \"test\")\n",
    "#     if not os.path.exists(train_results_folder): \n",
    "#         os.makedirs(train_results_folder) \n",
    "#     if not os.path.exists(test_results_folder): \n",
    "#         os.makedirs(test_results_folder) "
   ]
  },
  {
   "cell_type": "code",
   "execution_count": 8,
   "metadata": {},
   "outputs": [],
   "source": [
    "# # create files from each dict entry\n",
    "# cur_folder = os.getcwd()\n",
    "\n",
    "# mode = \"train\"\n",
    "# all_results_dict_file = os.path.join(cur_folder,\"results\", 'all_'+ mode + '_results.npy')\n",
    "# results = np.load(all_results_dict_file, allow_pickle='TRUE').item()\n",
    "# all_experiment_list = list(results.keys())\n",
    "\n",
    "\n",
    "# for exp_tag in all_experiment_list:\n",
    "#     exp_results_folder = os.path.join(cur_folder,\"results\", exp_tag, mode)\n",
    "#     for seed_tag in results[exp_tag].keys():\n",
    "#         dict_file = os.path.join(exp_results_folder, exp_tag + '-' + str(seed_tag) + '-'+ mode +'.npy')\n",
    "#         data = results[exp_tag][seed_tag]\n",
    "#         np.save(dict_file, data)"
   ]
  },
  {
   "cell_type": "code",
   "execution_count": 9,
   "metadata": {},
   "outputs": [],
   "source": [
    "# cur_folder = os.getcwd()\n",
    "# for exp_tag in all_experiment_list:\n",
    "#     model_folder = os.path.join(cur_folder,\"models\", exp_tag)\n",
    "#     print(model_folder)\n",
    "#     if not os.path.exists(model_folder): \n",
    "#             os.makedirs(model_folder) "
   ]
  },
  {
   "cell_type": "code",
   "execution_count": 10,
   "metadata": {},
   "outputs": [],
   "source": [
    "# !jupyter nbconvert --to script notebook.ipynb"
   ]
  },
  {
   "cell_type": "code",
   "execution_count": 11,
   "metadata": {},
   "outputs": [],
   "source": [
    "# file = 'seedlist.dat'\n",
    "# with open(file) as f:\n",
    "#     seed_list = []\n",
    "#     for line in f: # read rest of lines\n",
    "#         seed_list.append([int(x) for x in line.split()][0])"
   ]
  },
  {
   "cell_type": "code",
   "execution_count": 12,
   "metadata": {},
   "outputs": [],
   "source": [
    "# if os.path.exists(file):\n",
    "#     while not file_open_success and no_of_tries<MAX_TRYS:\n",
    "#         try:\n",
    "#             results = np.load(file,allow_pickle='TRUE').item()\n",
    "#             file_open_success = True\n",
    "#         except:\n",
    "#             file_open_success = False\n",
    "#             time.sleep(WAIT_TIME)\n",
    "#             no_of_tries += 1\n",
    "#         else:\n",
    "#             print(seed, \": File accessed\")\n",
    "#     if not file_open_success:\n",
    "#          print(seed, \": File cannot be accessed\")"
   ]
  }
 ],
 "metadata": {
  "kernelspec": {
   "display_name": "Python 3",
   "language": "python",
   "name": "python3"
  },
  "language_info": {
   "codemirror_mode": {
    "name": "ipython",
    "version": 3
   },
   "file_extension": ".py",
   "mimetype": "text/x-python",
   "name": "python",
   "nbconvert_exporter": "python",
   "pygments_lexer": "ipython3",
   "version": "3.7.4"
  }
 },
 "nbformat": 4,
 "nbformat_minor": 4
}
