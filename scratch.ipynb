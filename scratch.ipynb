{
 "cells": [
  {
   "cell_type": "code",
   "execution_count": 1,
   "metadata": {},
   "outputs": [
    {
     "name": "stdout",
     "output_type": "stream",
     "text": [
      "[NbConvertApp] Converting notebook notebook.ipynb to script\n",
      "[NbConvertApp] Writing 17860 bytes to notebook.py\n"
     ]
    }
   ],
   "source": [
    "!jupyter nbconvert --to script notebook.ipynb"
   ]
  },
  {
   "cell_type": "code",
   "execution_count": 8,
   "metadata": {},
   "outputs": [],
   "source": [
    "# file = 'seedlist.dat'\n",
    "# with open(file) as f:\n",
    "#     seed_list = []\n",
    "#     for line in f: # read rest of lines\n",
    "#         seed_list.append([int(x) for x in line.split()][0])"
   ]
  },
  {
   "cell_type": "code",
   "execution_count": null,
   "metadata": {},
   "outputs": [],
   "source": [
    "# if os.path.exists(file):\n",
    "#     while not file_open_success and no_of_tries<MAX_TRYS:\n",
    "#         try:\n",
    "#             results = np.load(file,allow_pickle='TRUE').item()\n",
    "#             file_open_success = True\n",
    "#         except:\n",
    "#             file_open_success = False\n",
    "#             time.sleep(WAIT_TIME)\n",
    "#             no_of_tries += 1\n",
    "#         else:\n",
    "#             print(seed, \": File accessed\")\n",
    "#     if not file_open_success:\n",
    "#          print(seed, \": File cannot be accessed\")"
   ]
  }
 ],
 "metadata": {
  "kernelspec": {
   "display_name": "Python 3",
   "language": "python",
   "name": "python3"
  },
  "language_info": {
   "codemirror_mode": {
    "name": "ipython",
    "version": 3
   },
   "file_extension": ".py",
   "mimetype": "text/x-python",
   "name": "python",
   "nbconvert_exporter": "python",
   "pygments_lexer": "ipython3",
   "version": "3.7.4"
  }
 },
 "nbformat": 4,
 "nbformat_minor": 4
}
