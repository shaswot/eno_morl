{
 "cells": [
  {
   "cell_type": "code",
   "execution_count": 1,
   "metadata": {},
   "outputs": [],
   "source": [
    "import numpy as np\n",
    "import matplotlib.pyplot as plt"
   ]
  },
  {
   "cell_type": "code",
   "execution_count": 2,
   "metadata": {},
   "outputs": [],
   "source": [
    "plt.rc('xtick', labelsize=8)\n",
    "plt.rc('ytick', labelsize=8)\n",
    "plt.rc('axes', labelsize=8)"
   ]
  },
  {
   "cell_type": "code",
   "execution_count": 3,
   "metadata": {},
   "outputs": [],
   "source": [
    "resolution = 10"
   ]
  },
  {
   "cell_type": "code",
   "execution_count": 4,
   "metadata": {},
   "outputs": [],
   "source": [
    "def tx_prob(tx_power,ch_gain):\n",
    "    k = 2\n",
    "    diff = tx_power-ch_gain\n",
    "    offset = 1\n",
    "    x = diff+offset\n",
    "    y = (1 + np.exp(-k*(1+offset))) / (1 + np.exp(-k*x)) \n",
    "    y = y*2-1.1\n",
    "    y = np.clip(y,0,1)\n",
    "    \n",
    "    return np.where(tx_power<0.01,0,y)"
   ]
  },
  {
   "cell_type": "code",
   "execution_count": 5,
   "metadata": {},
   "outputs": [],
   "source": [
    "def utility(sn_power,req):\n",
    "    u = sn_power/req\n",
    "    return np.where(u>1,1,u)"
   ]
  },
  {
   "cell_type": "code",
   "execution_count": 87,
   "metadata": {},
   "outputs": [
    {
     "data": {
      "image/png": "[encoded data removed]",
      "text/plain": [
       "<Figure size 251.064x155.169 with 1 Axes>"
      ]
     },
     "metadata": {
      "needs_background": "light"
     },
     "output_type": "display_data"
    }
   ],
   "source": [
    "\n",
    "idx = np.arange(resolution)\n",
    "alloc_range = np.linspace(start=0.1, stop=0.9, num=3)\n",
    "\n",
    "single_column_figure_width = 3.487\n",
    "double_column_figure_width = 7\n",
    "\n",
    "fig_width = single_column_figure_width*1\n",
    "fig_height = fig_width / 1.618\n",
    "\n",
    "fig, axs = plt.subplots(nrows=1,\n",
    "                        ncols=1,\n",
    "                        figsize=[fig_width,fig_height], # in inches\n",
    "                        sharex=True)\n",
    "plt.subplots_adjust(left=None, bottom=None, right=None, top=None, wspace=None, hspace=.05)\n",
    "\n",
    "\n",
    "for alloc in [0.9]:\n",
    "    tx_dc = np.linspace(start=0.1, stop=0.9, num=resolution) * alloc\n",
    "    sn_dc = alloc - tx_dc\n",
    "    tx_success = tx_prob(tx_dc, ch_gain=0.7)\n",
    "    utilization = utility(sn_dc, req=0.8)\n",
    "    \n",
    "    tx_success_2 = tx_prob(tx_dc, ch_gain=0.3)\n",
    "    utilization_2 = utility(sn_dc, req=0.9)\n",
    "    \n",
    "    exp_utility = tx_success*utilization\n",
    "    exp_utility_2 = tx_success_2*utilization_2\n",
    "    \n",
    "    axs.scatter(tx_success,utilization, s=10*np.exp(8*exp_utility), label= r'PO curve for State $s_1$')\n",
    "    axs.scatter(tx_success_2,utilization_2, s=10*np.exp(8*exp_utility), label=r'PO curve for State $s_2$')\n",
    "    axs.scatter([0.6,0.3, 0.4],[0.2, 0.4, 0.45], s=[10, 40, 70], label=\"Pareto-Dominated\")\n",
    "\n",
    "#     plt.xlim([-0.1,1.1])\n",
    "#     plt.ylim([-0.1,1.1])\n",
    "    axs.set_xlabel(\"Value for Objective 1\")\n",
    "    axs.set_ylabel(\"Value for Objective 2\")\n",
    "    axs.set_xticklabels([])\n",
    "    axs.set_yticklabels([])\n",
    "    \n",
    "    axs.text(0.37,0.95,r'State $s_1$', color='tab:blue')\n",
    "    axs.text(0.57,0.95,r'State $s_2$', color='tab:orange')\n",
    "    \n",
    "    axs.grid()\n",
    "#     lgnd = plt.legend( loc='center')\n",
    "\n",
    "#     lgnd = plt.legend(ncol=2, loc='lower left', bbox_to_anchor=(0.6,0.8,1,1))\n",
    "#     plt.title(\"fading=\"+str(fading)+ \"   \"+\"qos=\"+str(qos))\n",
    "    for handle in lgnd.legendHandles:\n",
    "        handle.set_sizes([20.0])\n",
    "fig.savefig('./figures/moo.png', dpi=300, bbox_inches='tight', transparent=True)"
   ]
  },
  {
   "cell_type": "code",
   "execution_count": null,
   "metadata": {},
   "outputs": [],
   "source": []
  }
 ],
 "metadata": {
  "kernelspec": {
   "display_name": "Python 3",
   "language": "python",
   "name": "python3"
  },
  "language_info": {
   "codemirror_mode": {
    "name": "ipython",
    "version": 3
   },
   "file_extension": ".py",
   "mimetype": "text/x-python",
   "name": "python",
   "nbconvert_exporter": "python",
   "pygments_lexer": "ipython3",
   "version": "3.6.10"
  }
 },
 "nbformat": 4,
 "nbformat_minor": 4
}
