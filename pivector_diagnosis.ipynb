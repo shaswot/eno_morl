{
 "cells": [
  {
   "cell_type": "code",
   "execution_count": 1,
   "metadata": {
    "jupyter": {
     "source_hidden": true
    }
   },
   "outputs": [
    {
     "name": "stdout",
     "output_type": "stream",
     "text": [
      "[382084, 959804, 880775, 707317, 638913, 160861, 468738, 814726, 792012, 752389]\n",
      "test\n"
     ]
    }
   ],
   "source": [
    "import numpy as np\n",
    "import matplotlib\n",
    "import matplotlib.pyplot as plt\n",
    "import os\n",
    "\n",
    "# plt.rc('font', family='serif', serif='Times')\n",
    "# plt.rc('text', usetex=True)\n",
    "plt.rc('xtick', labelsize=8)\n",
    "plt.rc('ytick', labelsize=8)\n",
    "plt.rc('axes', labelsize=8)\n",
    "\n",
    "# Get seedlist\n",
    "file = 'seedlist.dat'\n",
    "with open(file) as f:\n",
    "    seed_list = []\n",
    "    for line in f: # read rest of lines\n",
    "        seed_list.append([int(x) for x in line.split()][0])\n",
    "print(seed_list)\n",
    "\n",
    "# Set mode to train or test\n",
    "mode = \"test\"\n",
    "print(mode)"
   ]
  },
  {
   "cell_type": "code",
   "execution_count": 2,
   "metadata": {},
   "outputs": [],
   "source": [
    "# Define list of experiments to analyze for given seed\n",
    "experiment_list=[\n",
    "    'cenp_t24_random-pimorl_g0.997-n0.35-yr_pref-intrp4',\n",
    "    'cenp_t24_random-pimorl_g0.997-n0.35-day_pref-intrp4',\n",
    "    'cenp_t24_random-pimorl_g0.997-n0.35-random_pref-intrp4',\n",
    "    'cenp_t24_random-pimorl_g0.997-n0.35-c_pref2-intrp4',\n",
    "    'cenp_t24_random-pimorl_g0.997-n0.35-c_pref8-intrp4',\n",
    "\n",
    "]"
   ]
  },
  {
   "cell_type": "code",
   "execution_count": 3,
   "metadata": {
    "jupyter": {
     "source_hidden": true
    }
   },
   "outputs": [],
   "source": [
    "results = {} # dictionary to hold experimental data\n",
    "# results[experiment][seed_no]\n",
    "\n",
    "for experiment in experiment_list:\n",
    "    results[experiment]={}        \n",
    "    for seed_no in seed_list:\n",
    "        # Load data of experiment and store in a dictionary\n",
    "        tag = experiment + '-' + str(seed_no)\n",
    "        cur_folder = os.getcwd()\n",
    "        exp_results_folder = os.path.join(cur_folder,\"results\", experiment, mode) # experiment folder\n",
    "        exp_results_file = os.path.join(exp_results_folder, tag + '-'+ mode + '.npy') # experiment data file\n",
    "        exp_result = np.load(exp_results_file,allow_pickle='TRUE').item()\n",
    "        results[experiment][seed_no] = exp_result # load to dictionary"
   ]
  },
  {
   "cell_type": "code",
   "execution_count": 4,
   "metadata": {},
   "outputs": [
    {
     "name": "stdout",
     "output_type": "stream",
     "text": [
      "cenp_t24_random-pimorl_g0.997-n0.35-yr_pref-intrp4\n"
     ]
    }
   ],
   "source": [
    "seed_no = seed_list[9]\n",
    "location = 'tokyo'\n",
    "year = 1995\n",
    "experiment = experiment_list[0]\n",
    "print(experiment)"
   ]
  },
  {
   "cell_type": "code",
   "execution_count": 5,
   "metadata": {
    "jupyter": {
     "source_hidden": true
    }
   },
   "outputs": [
    {
     "name": "stdout",
     "output_type": "stream",
     "text": [
      "pref:  0.2\n"
     ]
    },
    {
     "ename": "KeyError",
     "evalue": "0.2",
     "output_type": "error",
     "traceback": [
      "\u001b[0;31m---------------------------------------------------------------------------\u001b[0m",
      "\u001b[0;31mKeyError\u001b[0m                                  Traceback (most recent call last)",
      "\u001b[0;32m<ipython-input-5-b303a5e77787>\u001b[0m in \u001b[0;36m<module>\u001b[0;34m\u001b[0m\n\u001b[1;32m      1\u001b[0m \u001b[0mpref\u001b[0m \u001b[0;34m=\u001b[0m \u001b[0;36m0.2\u001b[0m\u001b[0;34m\u001b[0m\u001b[0;34m\u001b[0m\u001b[0m\n\u001b[1;32m      2\u001b[0m \u001b[0mprint\u001b[0m\u001b[0;34m(\u001b[0m\u001b[0;34m\"pref: \"\u001b[0m\u001b[0;34m,\u001b[0m \u001b[0mpref\u001b[0m\u001b[0;34m)\u001b[0m\u001b[0;34m\u001b[0m\u001b[0;34m\u001b[0m\u001b[0m\n\u001b[0;32m----> 3\u001b[0;31m \u001b[0mintrp_sense_value_rec\u001b[0m \u001b[0;34m=\u001b[0m \u001b[0mnp\u001b[0m\u001b[0;34m.\u001b[0m\u001b[0marray\u001b[0m\u001b[0;34m(\u001b[0m\u001b[0mresults\u001b[0m\u001b[0;34m[\u001b[0m\u001b[0mexperiment\u001b[0m\u001b[0;34m]\u001b[0m\u001b[0;34m[\u001b[0m\u001b[0mseed_no\u001b[0m\u001b[0;34m]\u001b[0m\u001b[0;34m[\u001b[0m\u001b[0mlocation\u001b[0m\u001b[0;34m]\u001b[0m\u001b[0;34m[\u001b[0m\u001b[0myear\u001b[0m\u001b[0;34m]\u001b[0m\u001b[0;34m[\u001b[0m\u001b[0mpref\u001b[0m\u001b[0;34m]\u001b[0m\u001b[0;34m[\u001b[0m\u001b[0;34m'intrp_sense_value_rec'\u001b[0m\u001b[0;34m]\u001b[0m\u001b[0;34m)\u001b[0m\u001b[0;34m[\u001b[0m\u001b[0;34m:\u001b[0m\u001b[0;34m,\u001b[0m\u001b[0;36m0\u001b[0m\u001b[0;34m]\u001b[0m\u001b[0;34m\u001b[0m\u001b[0;34m\u001b[0m\u001b[0m\n\u001b[0m\u001b[1;32m      4\u001b[0m \u001b[0mintrp_enp_value_rec\u001b[0m   \u001b[0;34m=\u001b[0m \u001b[0mnp\u001b[0m\u001b[0;34m.\u001b[0m\u001b[0marray\u001b[0m\u001b[0;34m(\u001b[0m\u001b[0mresults\u001b[0m\u001b[0;34m[\u001b[0m\u001b[0mexperiment\u001b[0m\u001b[0;34m]\u001b[0m\u001b[0;34m[\u001b[0m\u001b[0mseed_no\u001b[0m\u001b[0;34m]\u001b[0m\u001b[0;34m[\u001b[0m\u001b[0mlocation\u001b[0m\u001b[0;34m]\u001b[0m\u001b[0;34m[\u001b[0m\u001b[0myear\u001b[0m\u001b[0;34m]\u001b[0m\u001b[0;34m[\u001b[0m\u001b[0mpref\u001b[0m\u001b[0;34m]\u001b[0m\u001b[0;34m[\u001b[0m\u001b[0;34m'intrp_enp_value_rec'\u001b[0m\u001b[0;34m]\u001b[0m\u001b[0;34m)\u001b[0m\u001b[0;34m[\u001b[0m\u001b[0;34m:\u001b[0m\u001b[0;34m,\u001b[0m\u001b[0;34m-\u001b[0m\u001b[0;36m1\u001b[0m\u001b[0;34m]\u001b[0m\u001b[0;34m\u001b[0m\u001b[0;34m\u001b[0m\u001b[0m\n\u001b[1;32m      5\u001b[0m \u001b[0mintrp_final_value_rec\u001b[0m \u001b[0;34m=\u001b[0m \u001b[0mnp\u001b[0m\u001b[0;34m.\u001b[0m\u001b[0mmax\u001b[0m\u001b[0;34m(\u001b[0m\u001b[0mresults\u001b[0m\u001b[0;34m[\u001b[0m\u001b[0mexperiment\u001b[0m\u001b[0;34m]\u001b[0m\u001b[0;34m[\u001b[0m\u001b[0mseed_no\u001b[0m\u001b[0;34m]\u001b[0m\u001b[0;34m[\u001b[0m\u001b[0mlocation\u001b[0m\u001b[0;34m]\u001b[0m\u001b[0;34m[\u001b[0m\u001b[0myear\u001b[0m\u001b[0;34m]\u001b[0m\u001b[0;34m[\u001b[0m\u001b[0mpref\u001b[0m\u001b[0;34m]\u001b[0m\u001b[0;34m[\u001b[0m\u001b[0;34m'intrp_final_value_rec'\u001b[0m\u001b[0;34m]\u001b[0m\u001b[0;34m,\u001b[0m \u001b[0maxis\u001b[0m\u001b[0;34m=\u001b[0m\u001b[0;36m1\u001b[0m\u001b[0;34m)\u001b[0m\u001b[0;34m\u001b[0m\u001b[0;34m\u001b[0m\u001b[0m\n",
      "\u001b[0;31mKeyError\u001b[0m: 0.2"
     ]
    }
   ],
   "source": [
    "pref = 0.2\n",
    "print(\"pref: \", pref)\n",
    "intrp_sense_value_rec = np.array(results[experiment][seed_no][location][year][pref]['intrp_sense_value_rec'])[:,0]\n",
    "intrp_enp_value_rec   = np.array(results[experiment][seed_no][location][year][pref]['intrp_enp_value_rec'])[:,-1]\n",
    "intrp_final_value_rec = np.max(results[experiment][seed_no][location][year][pref]['intrp_final_value_rec'], axis=1)\n",
    "\n",
    "sense_dc = np.array(results[experiment][seed_no][location][year][pref]['intrp_dc_rec'])[:,0]\n",
    "enp_dc = np.array(results[experiment][seed_no][location][year][pref]['intrp_dc_rec'])[:,-1]\n",
    "\n",
    "final_dc_pos = np.argmax(results[experiment][seed_no][location][year][pref]['intrp_final_value_rec'], axis=1)\n",
    "final_actions = np.array(results[experiment][seed_no][location][year][pref]['intrp_dc_rec'])\n",
    "final_dc = np.take_along_axis(final_actions, final_dc_pos[:,None], axis=1) \n",
    "\n",
    "\n",
    "fig_width = 15\n",
    "fig_height = 5\n",
    "\n",
    "fig, axs = plt.subplots(nrows=2,\n",
    "                        ncols=1,\n",
    "                        figsize=[fig_width,fig_height], # in inches\n",
    "                        sharex=True)\n",
    "plt.subplots_adjust(left=None, bottom=None, right=None, top=None, wspace=None, hspace=.05)\n",
    "\n",
    "value_ax = axs[0]\n",
    "dc_ax = axs[1]\n",
    "\n",
    "value_ax.plot(intrp_sense_value_rec, label=\"sense value\")\n",
    "value_ax.plot(intrp_enp_value_rec, label=\"enp value\")\n",
    "value_ax.plot(intrp_final_value_rec, label=\"final value\")\n",
    "value_ax.legend()\n",
    "\n",
    "dc_ax.plot(sense_dc, alpha = 0.8, label=\"sense dc\")\n",
    "dc_ax.plot(enp_dc, alpha = 0.5,label=\"enp dc\")\n",
    "dc_ax.plot(final_dc, alpha = 0.2,linestyle='--', label=\"final dc\")\n",
    "\n",
    "print('SNS Reward: ', np.mean(results[experiment][seed_no][location][year][pref]['sense_reward_log']))\n",
    "print('ENP Reward: ',np.mean(results[experiment][seed_no][location][year][pref]['enp_reward_log']))\n",
    "print('FNL Reward: ',np.mean(results[experiment][seed_no][location][year][pref]['avg_rwd']))\n",
    "print('Downtimes : ',np.mean(results[experiment][seed_no][location][year][pref]['downtimes']))"
   ]
  },
  {
   "cell_type": "code",
   "execution_count": null,
   "metadata": {
    "jupyter": {
     "source_hidden": true
    }
   },
   "outputs": [],
   "source": [
    "pref = 0.5\n",
    "print(\"pref: \", pref)\n",
    "\n",
    "intrp_sense_value_rec = np.array(results[experiment][seed_no][location][year][pref]['intrp_sense_value_rec'])[:,0]\n",
    "intrp_enp_value_rec   = np.array(results[experiment][seed_no][location][year][pref]['intrp_enp_value_rec'])[:,-1]\n",
    "intrp_final_value_rec = np.max(results[experiment][seed_no][location][year][pref]['intrp_final_value_rec'], axis=1)\n",
    "\n",
    "sense_dc = np.array(results[experiment][seed_no][location][year][pref]['intrp_dc_rec'])[:,0]\n",
    "enp_dc = np.array(results[experiment][seed_no][location][year][pref]['intrp_dc_rec'])[:,-1]\n",
    "\n",
    "final_dc_pos = np.argmax(results[experiment][seed_no][location][year][pref]['intrp_final_value_rec'], axis=1)\n",
    "final_actions = np.array(results[experiment][seed_no][location][year][pref]['intrp_dc_rec'])\n",
    "final_dc = np.take_along_axis(final_actions, final_dc_pos[:,None], axis=1) \n",
    "\n",
    "\n",
    "fig_width = 15\n",
    "fig_height = 5\n",
    "\n",
    "fig, axs = plt.subplots(nrows=2,\n",
    "                        ncols=1,\n",
    "                        figsize=[fig_width,fig_height], # in inches\n",
    "                        sharex=True)\n",
    "plt.subplots_adjust(left=None, bottom=None, right=None, top=None, wspace=None, hspace=.05)\n",
    "\n",
    "value_ax = axs[0]\n",
    "dc_ax = axs[1]\n",
    "\n",
    "value_ax.plot(intrp_sense_value_rec, label=\"sense value\")\n",
    "value_ax.plot(intrp_enp_value_rec, label=\"enp value\")\n",
    "value_ax.plot(intrp_final_value_rec, label=\"final value\")\n",
    "value_ax.legend()\n",
    "\n",
    "dc_ax.plot(sense_dc, alpha = 0.8, label=\"sense dc\")\n",
    "dc_ax.plot(enp_dc, alpha = 0.5,label=\"enp dc\")\n",
    "dc_ax.plot(final_dc, alpha = 0.2,linestyle='--', label=\"final dc\")\n",
    "\n",
    "\n",
    "print('SNS Reward: ', np.mean(results[experiment][seed_no][location][year][pref]['sense_reward_log']))\n",
    "print('ENP Reward: ',np.mean(results[experiment][seed_no][location][year][pref]['enp_reward_log']))\n",
    "print('FNL Reward: ',np.mean(results[experiment][seed_no][location][year][pref]['avg_rwd']))\n",
    "print('Downtimes : ',np.mean(results[experiment][seed_no][location][year][pref]['downtimes']))"
   ]
  },
  {
   "cell_type": "code",
   "execution_count": null,
   "metadata": {
    "jupyter": {
     "source_hidden": true
    }
   },
   "outputs": [],
   "source": [
    "pref = 0.8\n",
    "print(\"pref: \", pref)\n",
    "\n",
    "intrp_sense_value_rec = np.array(results[experiment][seed_no][location][year][pref]['intrp_sense_value_rec'])[:,0]\n",
    "intrp_enp_value_rec   = np.array(results[experiment][seed_no][location][year][pref]['intrp_enp_value_rec'])[:,-1]\n",
    "intrp_final_value_rec = np.max(results[experiment][seed_no][location][year][pref]['intrp_final_value_rec'], axis=1)\n",
    "\n",
    "sense_dc = np.array(results[experiment][seed_no][location][year][pref]['intrp_dc_rec'])[:,0]\n",
    "enp_dc = np.array(results[experiment][seed_no][location][year][pref]['intrp_dc_rec'])[:,-1]\n",
    "\n",
    "final_dc_pos = np.argmax(results[experiment][seed_no][location][year][pref]['intrp_final_value_rec'], axis=1)\n",
    "final_actions = np.array(results[experiment][seed_no][location][year][pref]['intrp_dc_rec'])\n",
    "final_dc = np.take_along_axis(final_actions, final_dc_pos[:,None], axis=1) \n",
    "\n",
    "\n",
    "fig_width = 15\n",
    "fig_height = 5\n",
    "\n",
    "fig, axs = plt.subplots(nrows=2,\n",
    "                        ncols=1,\n",
    "                        figsize=[fig_width,fig_height], # in inches\n",
    "                        sharex=True)\n",
    "plt.subplots_adjust(left=None, bottom=None, right=None, top=None, wspace=None, hspace=.05)\n",
    "\n",
    "value_ax = axs[0]\n",
    "dc_ax = axs[1]\n",
    "\n",
    "value_ax.plot(intrp_sense_value_rec, label=\"sense value\")\n",
    "value_ax.plot(intrp_enp_value_rec, label=\"enp value\")\n",
    "value_ax.plot(intrp_final_value_rec, label=\"final value\")\n",
    "value_ax.legend()\n",
    "\n",
    "dc_ax.plot(sense_dc, alpha = 0.8, label=\"sense dc\")\n",
    "dc_ax.plot(enp_dc, alpha = 0.5,label=\"enp dc\")\n",
    "dc_ax.plot(final_dc, alpha = 0.2,linestyle='--', label=\"final dc\")\n",
    "\n",
    "\n",
    "print('SNS Reward: ', np.mean(results[experiment][seed_no][location][year][pref]['sense_reward_log']))\n",
    "print('ENP Reward: ',np.mean(results[experiment][seed_no][location][year][pref]['enp_reward_log']))\n",
    "print('FNL Reward: ',np.mean(results[experiment][seed_no][location][year][pref]['avg_rwd']))\n",
    "print('Downtimes : ',np.mean(results[experiment][seed_no][location][year][pref]['downtimes']))"
   ]
  }
 ],
 "metadata": {
  "kernelspec": {
   "display_name": "Python 3",
   "language": "python",
   "name": "python3"
  },
  "language_info": {
   "codemirror_mode": {
    "name": "ipython",
    "version": 3
   },
   "file_extension": ".py",
   "mimetype": "text/x-python",
   "name": "python",
   "nbconvert_exporter": "python",
   "pygments_lexer": "ipython3",
   "version": "3.6.10"
  }
 },
 "nbformat": 4,
 "nbformat_minor": 4
}
