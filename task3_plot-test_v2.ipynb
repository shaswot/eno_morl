{
 "cells": [
  {
   "cell_type": "code",
   "execution_count": 1,
   "metadata": {},
   "outputs": [],
   "source": [
    "import numpy as np\n",
    "import matplotlib\n",
    "import matplotlib.pyplot as plt\n",
    "import os"
   ]
  },
  {
   "cell_type": "code",
   "execution_count": 2,
   "metadata": {},
   "outputs": [],
   "source": [
    "# plt.rc('font', family='serif', serif='Times')\n",
    "# plt.rc('text', usetex=True)\n",
    "plt.rc('xtick', labelsize=8)\n",
    "plt.rc('ytick', labelsize=8)\n",
    "plt.rc('axes', labelsize=8)\n",
    "matplotlib.rcParams['lines.linewidth'] = 0.75\n"
   ]
  },
  {
   "cell_type": "code",
   "execution_count": 3,
   "metadata": {},
   "outputs": [
    {
     "name": "stdout",
     "output_type": "stream",
     "text": [
      "[382084, 959804, 880775, 707317, 638913, 160861, 468738, 814726, 792012, 752389]\n"
     ]
    }
   ],
   "source": [
    "# Get seedlist\n",
    "file = 'seedlist.dat'\n",
    "with open(file) as f:\n",
    "    seed_list = []\n",
    "    for line in f: # read rest of lines\n",
    "        seed_list.append([int(x) for x in line.split()][0])\n",
    "print(seed_list)"
   ]
  },
  {
   "cell_type": "code",
   "execution_count": 4,
   "metadata": {},
   "outputs": [
    {
     "name": "stdout",
     "output_type": "stream",
     "text": [
      "test\n"
     ]
    }
   ],
   "source": [
    "# Set mode to train or test\n",
    "mode = \"test\"\n",
    "print(mode)"
   ]
  },
  {
   "cell_type": "code",
   "execution_count": 5,
   "metadata": {},
   "outputs": [],
   "source": [
    "experiment_list=['sensetx_t24_dummy-3task_g0.997-n0.7-random_pref-intrp4']"
   ]
  },
  {
   "cell_type": "code",
   "execution_count": 6,
   "metadata": {},
   "outputs": [],
   "source": [
    "results = {}\n",
    "for experiment in experiment_list:\n",
    "    results[experiment]={}        \n",
    "    for seed_no in seed_list:\n",
    "        # Load data of experiment and store in a dictionary\n",
    "        tag = experiment + '-' + str(seed_no)\n",
    "        cur_folder = os.getcwd()\n",
    "        exp_results_folder = os.path.join(cur_folder,\"results\", experiment, mode) # experiment folder\n",
    "        exp_results_file = os.path.join(exp_results_folder, tag + '-'+ mode + '.npy') # experiment data file\n",
    "        exp_result = np.load(exp_results_file,allow_pickle='TRUE').item()\n",
    "        results[experiment][seed_no] = exp_result # load to dictionary"
   ]
  },
  {
   "cell_type": "code",
   "execution_count": 7,
   "metadata": {},
   "outputs": [],
   "source": [
    "# Get list of locations and years in the experimental data\n",
    "location_list   = list(results[experiment_list[0]][seed_list[0]].keys())\n",
    "year_list       = list(results[experiment_list[0]][seed_list[0]][location_list[0]].keys())\n",
    "pref_list       = list(results[experiment_list[0]][seed_list[0]][location_list[0]][year_list[0]].keys())"
   ]
  },
  {
   "cell_type": "code",
   "execution_count": 8,
   "metadata": {},
   "outputs": [],
   "source": [
    "for experiment in experiment_list:\n",
    "    results[experiment][\"minimum\"] = {}\n",
    "    results[experiment][\"first_q\"] = {}\n",
    "    results[experiment][\"average\"] = {}\n",
    "    results[experiment][\"third_q\"] = {}\n",
    "    results[experiment][\"maximum\"] = {}\n",
    "    for location in location_list:\n",
    "        results[experiment][\"minimum\"][location] = {}\n",
    "        results[experiment][\"first_q\"][location] = {}\n",
    "        results[experiment][\"average\"][location] = {}\n",
    "        results[experiment][\"third_q\"][location] = {}\n",
    "        results[experiment][\"maximum\"][location] = {}\n",
    "        for year in year_list:\n",
    "            results[experiment][\"minimum\"][location][year] = {}\n",
    "            results[experiment][\"first_q\"][location][year] = {}\n",
    "            results[experiment][\"average\"][location][year] = {}\n",
    "            results[experiment][\"third_q\"][location][year] = {}\n",
    "            results[experiment][\"maximum\"][location][year] = {}\n",
    "            for pref in pref_list:\n",
    "                results[experiment][\"minimum\"][location][year][pref] = {}\n",
    "                results[experiment][\"first_q\"][location][year][pref] = {}\n",
    "                results[experiment][\"average\"][location][year][pref] = {}\n",
    "                results[experiment][\"third_q\"][location][year][pref] = {}\n",
    "                results[experiment][\"maximum\"][location][year][pref] = {}"
   ]
  },
  {
   "cell_type": "code",
   "execution_count": 9,
   "metadata": {},
   "outputs": [],
   "source": [
    "# get min, avg and max avg_sense_reward\n",
    "for experiment in experiment_list:\n",
    "    for location in location_list:\n",
    "        for year in year_list:\n",
    "            for pref in pref_list:\n",
    "                dummy = []\n",
    "                for seed in seed_list:\n",
    "                    avgsnsrwd = results[experiment][seed][location][year][pref]['sense_reward_log'].mean()\n",
    "                    results[experiment][seed][location][year][pref]['avg_sense_reward'] = avgsnsrwd # add new entry\n",
    "                    dummy.append(avgsnsrwd)\n",
    "                results[experiment][\"minimum\"][location][year][pref]['avg_sense_reward'] = np.min(dummy)\n",
    "                results[experiment][\"first_q\"][location][year][pref]['avg_sense_reward'] = np.percentile(dummy, 25)\n",
    "                results[experiment][\"average\"][location][year][pref]['avg_sense_reward'] = np.mean(dummy)\n",
    "                results[experiment][\"third_q\"][location][year][pref]['avg_sense_reward'] = np.percentile(dummy, 75)\n",
    "                results[experiment][\"maximum\"][location][year][pref]['avg_sense_reward'] = np.max(dummy)\n",
    "                \n",
    "# get min, avg and max avg_tx_reward\n",
    "for experiment in experiment_list:\n",
    "    for location in location_list:\n",
    "        for year in year_list:\n",
    "            for pref in pref_list:\n",
    "                dummy = []\n",
    "                for seed in seed_list:\n",
    "                    avgtxrwd = results[experiment][seed][location][year][pref]['tx_reward_log'].mean()\n",
    "                    results[experiment][seed][location][year][pref]['avg_tx_reward'] = avgtxrwd # add new entry\n",
    "                    dummy.append(avgtxrwd)\n",
    "                results[experiment][\"minimum\"][location][year][pref]['avg_tx_reward'] = np.min(dummy)\n",
    "                results[experiment][\"first_q\"][location][year][pref]['avg_tx_reward'] = np.percentile(dummy, 25)\n",
    "                results[experiment][\"average\"][location][year][pref]['avg_tx_reward'] = np.mean(dummy)\n",
    "                results[experiment][\"third_q\"][location][year][pref]['avg_tx_reward'] = np.percentile(dummy, 75)\n",
    "                results[experiment][\"maximum\"][location][year][pref]['avg_tx_reward'] = np.max(dummy)\n",
    "            \n",
    "# get min, avg and max avg_enp_reward\n",
    "for experiment in experiment_list:\n",
    "    for location in location_list:\n",
    "        for year in year_list:\n",
    "            for pref in pref_list:\n",
    "                dummy = []\n",
    "                for seed in seed_list:\n",
    "                    avgenprwd = results[experiment][seed][location][year][pref]['enp_reward_log'].mean()\n",
    "                    results[experiment][seed][location][year][pref]['avg_enp_reward'] = avgenprwd # add new entry\n",
    "                    dummy.append(avgenprwd)\n",
    "                results[experiment][\"minimum\"][location][year][pref]['avg_enp_reward'] = np.min(dummy)\n",
    "                results[experiment][\"first_q\"][location][year][pref]['avg_enp_reward'] = np.percentile(dummy, 25)\n",
    "                results[experiment][\"average\"][location][year][pref]['avg_enp_reward'] = np.mean(dummy)\n",
    "                results[experiment][\"third_q\"][location][year][pref]['avg_enp_reward'] = np.percentile(dummy, 75)\n",
    "                results[experiment][\"maximum\"][location][year][pref]['avg_enp_reward'] = np.max(dummy)\n",
    "\n",
    "# get min, avg and max downtimes\n",
    "for experiment in experiment_list:\n",
    "    for location in location_list:\n",
    "        for year in year_list:\n",
    "            for pref in pref_list:\n",
    "                dummy = []\n",
    "                for seed in seed_list:\n",
    "                    dummy.append(results[experiment][seed][location][year][pref]['downtimes'])\n",
    "                results[experiment][\"minimum\"][location][year][pref]['downtimes'] = np.min(dummy)\n",
    "                results[experiment][\"first_q\"][location][year][pref]['downtimes'] = np.percentile(dummy, 25)\n",
    "                results[experiment][\"average\"][location][year][pref]['downtimes'] = np.mean(dummy)\n",
    "                results[experiment][\"third_q\"][location][year][pref]['downtimes'] = np.percentile(dummy, 75)\n",
    "                results[experiment][\"maximum\"][location][year][pref]['downtimes'] = np.max(dummy)"
   ]
  },
  {
   "cell_type": "code",
   "execution_count": 10,
   "metadata": {},
   "outputs": [],
   "source": [
    "# location = 'tokyo'\n",
    "# for pref in pref_list:\n",
    "#     for experiment in experiment_list:\n",
    "#         exp_tag = experiment+'-p'+str(pref)\n",
    "#         results[exp_tag] = {}\n",
    "#         for seed in seed_list:\n",
    "#             results[exp_tag][seed] = {}\n",
    "#             for location in location_list:\n",
    "#                 results[exp_tag][seed][location] = {}\n",
    "#                 for year in year_list:\n",
    "#                     results[exp_tag][seed][location][year] =  allpref_results[experiment][seed][location][year][pref]"
   ]
  },
  {
   "cell_type": "code",
   "execution_count": 11,
   "metadata": {},
   "outputs": [],
   "source": [
    "plot_pref_list = pref_list[2:]"
   ]
  },
  {
   "cell_type": "code",
   "execution_count": 12,
   "metadata": {},
   "outputs": [
    {
     "name": "stdout",
     "output_type": "stream",
     "text": [
      "tokyo\n"
     ]
    },
    {
     "data": {
      "image/png": "[encoded data removed]",
      "text/plain": [
       "<Figure size 251.064x186.203 with 3 Axes>"
      ]
     },
     "metadata": {
      "needs_background": "light"
     },
     "output_type": "display_data"
    }
   ],
   "source": [
    "# Downtimes and Sense Rewards\n",
    "\n",
    "single_column_figure_width = 3.487\n",
    "double_column_figure_width = 7\n",
    "\n",
    "fig_width = single_column_figure_width\n",
    "fig_height = fig_width / 1.618 *1.2\n",
    "\n",
    "fig, axs = plt.subplots(nrows=3,\n",
    "                        ncols=1,\n",
    "                        figsize=[fig_width,fig_height], # in inches\n",
    "                        sharex=True)\n",
    "plt.subplots_adjust(left=None, bottom=None, right=None, top=None, wspace=None, hspace=.05)\n",
    "\n",
    "sense_reward_ax  = axs[0]\n",
    "tx_reward_ax  = axs[1]\n",
    "# enp_reward_ax  = axs[2]\n",
    "downtimes_ax = axs[2]\n",
    "\n",
    "location = 'tokyo'\n",
    "print(location)\n",
    "######################################################################################################################\n",
    "# avg_sense_reward\n",
    "for experiment in experiment_list:\n",
    "    for pref in plot_pref_list:\n",
    "        min_data = [results[experiment][\"minimum\"][location][year][pref]['avg_sense_reward'] for year in year_list]\n",
    "        qt1_data = [results[experiment][\"first_q\"][location][year][pref]['avg_sense_reward'] for year in year_list]\n",
    "        avg_data = [results[experiment][\"average\"][location][year][pref]['avg_sense_reward'] for year in year_list]\n",
    "        qt3_data = [results[experiment][\"third_q\"][location][year][pref]['avg_sense_reward'] for year in year_list]\n",
    "        max_data = [results[experiment][\"maximum\"][location][year][pref]['avg_sense_reward'] for year in year_list]\n",
    "\n",
    "    \n",
    "#         sense_reward_ax.fill_between(year_list, y1=qt1_data, y2=qt3_data, \n",
    "#     #                                  color=experiment_color[experiment],\n",
    "#                                      alpha=0.2)\n",
    "        sense_reward_ax.plot(year_list, avg_data, \n",
    "    #                          color=experiment_color[experiment], \n",
    "    #                          label=experiment_label[experiment]\n",
    "                             label = r'$\\omega=$'+ str(pref)\n",
    "                            )\n",
    "    \n",
    "sense_reward_ax.text(0.035,0.5, 'sense-utility', \n",
    "         size='x-small', ha='center', va='center', \n",
    "        rotation='vertical',  transform=sense_reward_ax.transAxes)\n",
    "# sense_reward_ax.set_title('sense utility')\n",
    "# sense_reward_ax.set_ylabel('sense utility')    \n",
    "sense_reward_ax.legend(loc=\"lower left\",\n",
    "                       ncol=2,\n",
    "                       fontsize='x-small',\n",
    "                       bbox_to_anchor=(-0.02,1.0,1.04,1),\n",
    "                        mode=\"expand\",\n",
    "                       labelspacing=0.1,)\n",
    "sense_reward_ax.grid(which='major', axis='x', linestyle='--')\n",
    "######################################################################################################################\n",
    "# avg_tx_reward\n",
    "for experiment in experiment_list:\n",
    "    for pref in plot_pref_list:\n",
    "        min_data = [results[experiment][\"minimum\"][location][year][pref]['avg_tx_reward'] for year in year_list]\n",
    "        qt1_data = [results[experiment][\"first_q\"][location][year][pref]['avg_tx_reward'] for year in year_list]\n",
    "        avg_data = [results[experiment][\"average\"][location][year][pref]['avg_tx_reward'] for year in year_list]\n",
    "        qt3_data = [results[experiment][\"third_q\"][location][year][pref]['avg_tx_reward'] for year in year_list]\n",
    "        max_data = [results[experiment][\"maximum\"][location][year][pref]['avg_tx_reward'] for year in year_list]\n",
    "\n",
    "    \n",
    "#         tx_reward_ax.fill_between(year_list, y1=qt1_data, y2=qt3_data, \n",
    "#     #                                  color=experiment_color[experiment],\n",
    "#                                      alpha=0.2)\n",
    "        tx_reward_ax.plot(year_list, avg_data, \n",
    "    #                          color=experiment_color[experiment], \n",
    "    #                          label=experiment_label[experiment]\n",
    "                             label = str(pref)\n",
    "                            )\n",
    "    \n",
    "tx_reward_ax.text(0.035,0.5, 'tx-utility', \n",
    "         size='x-small', ha='center', va='center', \n",
    "        rotation='vertical',  transform=tx_reward_ax.transAxes)\n",
    "# tx_reward_ax.set_title('tx utility')\n",
    "# tx_reward_ax.set_ylabel('tx utility')    \n",
    "# tx_reward_ax.legend(loc=\"lower left\",\n",
    "#                        ncol=2,\n",
    "#                        fontsize='x-small',\n",
    "#                        bbox_to_anchor=(-0.02,0.9,1,1))\n",
    "tx_reward_ax.grid(which='major', axis='x', linestyle='--')\n",
    "######################################################################################################################\n",
    "# # avg_enp_reward\n",
    "# for experiment in experiment_list:\n",
    "#     for pref in plot_pref_list:\n",
    "#         min_data = [results[experiment][\"minimum\"][location][year][pref]['avg_enp_reward'] for year in year_list]\n",
    "#         qt1_data = [results[experiment][\"first_q\"][location][year][pref]['avg_enp_reward'] for year in year_list]\n",
    "#         avg_data = [results[experiment][\"average\"][location][year][pref]['avg_enp_reward'] for year in year_list]\n",
    "#         qt3_data = [results[experiment][\"third_q\"][location][year][pref]['avg_enp_reward'] for year in year_list]\n",
    "#         max_data = [results[experiment][\"maximum\"][location][year][pref]['avg_enp_reward'] for year in year_list]\n",
    "\n",
    "    \n",
    "#         enp_reward_ax.fill_between(year_list, y1=qt1_data, y2=qt3_data, \n",
    "#     #                                  color=experiment_color[experiment],\n",
    "#                                      alpha=0.2)\n",
    "#         enp_reward_ax.plot(year_list, avg_data, \n",
    "#     #                          color=experiment_color[experiment], \n",
    "#     #                          label=experiment_label[experiment]\n",
    "#                              label = str(pref)\n",
    "#                             )\n",
    "    \n",
    "# enp_reward_ax.text(0.15,0.75, 'enp utility', \n",
    "#          size='x-small', ha=\"center\", \n",
    "#          transform=enp_reward_ax.transAxes)\n",
    "# # enp_reward_ax.set_title('enp utility')\n",
    "# # enp_reward_ax.set_ylabel('enp utility')    \n",
    "# # enp_reward_ax.legend(loc=\"lower left\",\n",
    "# #                        ncol=2,\n",
    "# #                        fontsize='x-small',\n",
    "# #                        bbox_to_anchor=(-0.02,0.9,1,1))\n",
    "# enp_reward_ax.grid(which='major', axis='x', linestyle='--')\n",
    "######################################################################################################################\n",
    "# Downtimes\n",
    "for experiment in experiment_list:\n",
    "    for pref in plot_pref_list:\n",
    "        min_data = [results[experiment][\"minimum\"][location][year][pref]['downtimes'] for year in year_list]\n",
    "        qt1_data = [results[experiment][\"first_q\"][location][year][pref]['downtimes'] for year in year_list]\n",
    "        avg_data = [results[experiment][\"average\"][location][year][pref]['downtimes'] for year in year_list]\n",
    "        qt3_data = [results[experiment][\"third_q\"][location][year][pref]['downtimes'] for year in year_list]\n",
    "        max_data = [results[experiment][\"maximum\"][location][year][pref]['downtimes'] for year in year_list]\n",
    "\n",
    "        width = 0.8/len(plot_pref_list)  # the width of the bars \n",
    "        xroot = np.array(year_list) # label locations\n",
    "        xoffset = -0.8/2 + plot_pref_list.index(pref) \n",
    "        downtimes_ax.bar(xroot+xoffset*width, avg_data,width, \n",
    "#                          yerr = [qt1_data,qt3_data], \n",
    "#                          color=experiment_color[experiment], \n",
    "#                          label=experiment_label[experiment],\n",
    "                         error_kw=dict(ecolor='black', lw=1, capsize=0.5, capthick=width*0.5, alpha=0.2))\n",
    "\n",
    "downtimes_ax.set_xticks(year_list[::4])\n",
    "downtimes_ax.set_xticklabels(year_list[::4], rotation=0)\n",
    "\n",
    "downtimes_ax.text(0.15,0.85, 'Downtimes', \n",
    "                 size='x-small', ha=\"center\", \n",
    "                 transform=downtimes_ax.transAxes)\n",
    "# downtimes_ax.set_title('downtimes')\n",
    "# downtimes_ax.set_ylabel('downtimes')    \n",
    "# downtimes_ax.legend(loc=\"lower left\",\n",
    "#                    ncol=1,\n",
    "#                    bbox_to_anchor=(0,0.8,1,1))\n",
    "downtimes_ax.grid(which='major', axis='y', linestyle='--')\n",
    "fig.savefig('./figures/2task.png', dpi=300, bbox_inches='tight', transparent=True)"
   ]
  },
  {
   "cell_type": "code",
   "execution_count": null,
   "metadata": {},
   "outputs": [],
   "source": []
  }
 ],
 "metadata": {
  "kernelspec": {
   "display_name": "Python 3",
   "language": "python",
   "name": "python3"
  },
  "language_info": {
   "codemirror_mode": {
    "name": "ipython",
    "version": 3
   },
   "file_extension": ".py",
   "mimetype": "text/x-python",
   "name": "python",
   "nbconvert_exporter": "python",
   "pygments_lexer": "ipython3",
   "version": "3.6.10"
  }
 },
 "nbformat": 4,
 "nbformat_minor": 4
}
