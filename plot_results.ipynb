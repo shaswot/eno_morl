{
 "cells": [
  {
   "cell_type": "code",
   "execution_count": 1,
   "metadata": {},
   "outputs": [],
   "source": [
    "import numpy as np\n",
    "import matplotlib\n",
    "import matplotlib.pyplot as plt"
   ]
  },
  {
   "cell_type": "code",
   "execution_count": 2,
   "metadata": {
    "jupyter": {
     "source_hidden": true
    }
   },
   "outputs": [],
   "source": [
    "# plt.rc('font', family='serif', serif='Times')\n",
    "# plt.rc('text', usetex=True)\n",
    "plt.rc('xtick', labelsize=8)\n",
    "plt.rc('ytick', labelsize=8)\n",
    "plt.rc('axes', labelsize=8)"
   ]
  },
  {
   "cell_type": "code",
   "execution_count": 3,
   "metadata": {
    "jupyter": {
     "source_hidden": true
    }
   },
   "outputs": [],
   "source": [
    "# dict_file = './results/test_results.npy'\n",
    "# remove_keys = ['csense_t24_random-ddpg_ep_g1e2-original-914']\n",
    "\n",
    "# dictionary = np.load(dict_file,allow_pickle='TRUE').item()\n",
    "# for key in remove_keys:\n",
    "#     if key in dictionary:\n",
    "#         del dictionary[keys]\n",
    "# np.save(dict_file,dictionary) "
   ]
  },
  {
   "cell_type": "code",
   "execution_count": 4,
   "metadata": {
    "jupyter": {
     "source_hidden": true
    }
   },
   "outputs": [],
   "source": [
    "train_results = np.load('./results/all_train_results.npy',allow_pickle='TRUE').item()\n",
    "test_results = np.load('./results/all_test_results.npy',allow_pickle='TRUE').item()"
   ]
  },
  {
   "cell_type": "code",
   "execution_count": 5,
   "metadata": {},
   "outputs": [],
   "source": [
    "results = train_results\n",
    "# results = train_results"
   ]
  },
  {
   "cell_type": "code",
   "execution_count": 6,
   "metadata": {
    "jupyter": {
     "source_hidden": true
    }
   },
   "outputs": [],
   "source": [
    "file = 'seedlist.dat'\n",
    "with open(file) as f:\n",
    "    seed_list = []\n",
    "    for line in f: # read rest of lines\n",
    "        seed_list.append([int(x) for x in line.split()][0])"
   ]
  },
  {
   "cell_type": "code",
   "execution_count": 7,
   "metadata": {},
   "outputs": [],
   "source": [
    "all_experiment_list = list(results.keys())\n",
    "location_list   = list(results[all_experiment_list[0]][seed_list[0]].keys())\n",
    "year_list       = list(results[all_experiment_list[0]][seed_list[0]][location_list[0]].keys())"
   ]
  },
  {
   "cell_type": "code",
   "execution_count": 8,
   "metadata": {
    "jupyter": {
     "source_hidden": true
    }
   },
   "outputs": [
    {
     "name": "stdout",
     "output_type": "stream",
     "text": [
      "[1995, 1996, 1997, 1998, 1999, 2000, 2001, 2002, 2003, 2004]\n"
     ]
    }
   ],
   "source": [
    "print(year_list)"
   ]
  },
  {
   "cell_type": "code",
   "execution_count": 9,
   "metadata": {
    "jupyter": {
     "source_hidden": true
    }
   },
   "outputs": [
    {
     "name": "stdout",
     "output_type": "stream",
     "text": [
      "['csense_t24_random-base_g0.997-n0.7', 'cenp_t24_random-base_g0.997-n0.7', 'cenpv2_t24_random-base_g0.997-n0.7', 'rsense_t24_random-base_g0.997-n0.3', 'renp_t24_random-base_g0.997-n0.3']\n"
     ]
    }
   ],
   "source": [
    "print(all_experiment_list)"
   ]
  },
  {
   "cell_type": "code",
   "execution_count": 10,
   "metadata": {},
   "outputs": [],
   "source": [
    "experiment_list = [all_experiment_list[0]]"
   ]
  },
  {
   "cell_type": "code",
   "execution_count": 11,
   "metadata": {
    "jupyter": {
     "source_hidden": true
    }
   },
   "outputs": [],
   "source": [
    "# Add keys to dictionaries\n",
    "for experiment in experiment_list:\n",
    "    results[experiment][\"minimum\"] = {}\n",
    "    results[experiment][\"first_q\"] = {}\n",
    "    results[experiment][\"average\"] = {}\n",
    "    results[experiment][\"third_q\"] = {}\n",
    "    results[experiment][\"maximum\"] = {}\n",
    "    for location in location_list:\n",
    "        results[experiment][\"minimum\"][location] = {}\n",
    "        results[experiment][\"first_q\"][location] = {}\n",
    "        results[experiment][\"average\"][location] = {}\n",
    "        results[experiment][\"third_q\"][location] = {}\n",
    "        results[experiment][\"maximum\"][location] = {}\n",
    "        for year in year_list:\n",
    "            results[experiment][\"minimum\"][location][year] = {}\n",
    "            results[experiment][\"first_q\"][location][year] = {}\n",
    "            results[experiment][\"average\"][location][year] = {}\n",
    "            results[experiment][\"third_q\"][location][year] = {}\n",
    "            results[experiment][\"maximum\"][location][year] = {}\n",
    "            \n"
   ]
  },
  {
   "cell_type": "code",
   "execution_count": 12,
   "metadata": {
    "jupyter": {
     "source_hidden": true
    }
   },
   "outputs": [],
   "source": [
    "# get min, avg and max downtimes\n",
    "for experiment in experiment_list:\n",
    "    for location in location_list:\n",
    "        for year in year_list:\n",
    "            dummy = []\n",
    "            for seed in seed_list:\n",
    "                dummy.append(results[experiment][seed][location][year]['downtimes'])\n",
    "            results[experiment][\"minimum\"][location][year]['downtimes'] = np.min(dummy)\n",
    "            results[experiment][\"first_q\"][location][year]['downtimes'] = np.percentile(dummy, 25)\n",
    "            results[experiment][\"average\"][location][year]['downtimes'] = np.mean(dummy)\n",
    "            results[experiment][\"third_q\"][location][year]['downtimes'] = np.percentile(dummy, 75)\n",
    "            results[experiment][\"maximum\"][location][year]['downtimes'] = np.max(dummy)\n",
    "\n",
    "# get min, avg and max avg_sense_reward\n",
    "for experiment in experiment_list:\n",
    "    for location in location_list:\n",
    "        for year in year_list:\n",
    "            dummy = []\n",
    "            for seed in seed_list:\n",
    "                avgsnsrwd = results[experiment][seed][location][year]['sense_reward_log'].mean()\n",
    "                results[experiment][seed][location][year]['avg_sense_reward'] = avgsnsrwd # add new entry\n",
    "                dummy.append(avgsnsrwd)\n",
    "            results[experiment][\"minimum\"][location][year]['avg_sense_reward'] = np.min(dummy)\n",
    "            results[experiment][\"first_q\"][location][year]['avg_sense_reward'] = np.percentile(dummy, 25)\n",
    "            results[experiment][\"average\"][location][year]['avg_sense_reward'] = np.mean(dummy)\n",
    "            results[experiment][\"third_q\"][location][year]['avg_sense_reward'] = np.percentile(dummy, 75)\n",
    "            results[experiment][\"maximum\"][location][year]['avg_sense_reward'] = np.max(dummy)"
   ]
  },
  {
   "cell_type": "code",
   "execution_count": 13,
   "metadata": {
    "jupyter": {
     "source_hidden": true
    }
   },
   "outputs": [
    {
     "name": "stdout",
     "output_type": "stream",
     "text": [
      "tokyo\n"
     ]
    },
    {
     "data": {
      "image/png": "[encoded data removed]",
      "text/plain": [
       "<Figure size 251.064x155.169 with 2 Axes>"
      ]
     },
     "metadata": {
      "needs_background": "light"
     },
     "output_type": "display_data"
    }
   ],
   "source": [
    "single_column_figure_width = 3.487\n",
    "double_column_figure_width = 7\n",
    "\n",
    "fig_width = single_column_figure_width\n",
    "fig_height = fig_width / 1.618\n",
    "\n",
    "fig, axs = plt.subplots(nrows=2,\n",
    "                        ncols=1,\n",
    "                        figsize=[fig_width,fig_height], # in inches\n",
    "                        sharex=True)\n",
    "plt.subplots_adjust(left=None, bottom=None, right=None, top=None, wspace=None, hspace=.05)\n",
    "\n",
    "#######################################################################################\n",
    "# # left  = 0.125  # the left side of the subplots of the figure\n",
    "# # right = 0.9    # the right side of the subplots of the figure\n",
    "# # bottom = 0.1   # the bottom of the subplots of the figure\n",
    "# # top = 0.9      # the top of the subplots of the figure\n",
    "# # wspace = 0.2   # the amount of width reserved for blank space between subplots\n",
    "# # hspace = 0.2   # the amount of height reserved for white space between subplots\n",
    "#######################################################################################\n",
    "\n",
    "sense_reward_ax  = axs[0]\n",
    "downtimes_ax = axs[1]\n",
    "\n",
    "location = 'tokyo'\n",
    "print(location)\n",
    "\n",
    "# avg_sense_reward\n",
    "for experiment in experiment_list:\n",
    "    min_data = [results[experiment][\"minimum\"][location][year]['avg_sense_reward'] for year in year_list]\n",
    "    qt1_data = [results[experiment][\"first_q\"][location][year]['avg_sense_reward'] for year in year_list]\n",
    "    avg_data = [results[experiment][\"average\"][location][year]['avg_sense_reward'] for year in year_list]\n",
    "    qt3_data = [results[experiment][\"third_q\"][location][year]['avg_sense_reward'] for year in year_list]\n",
    "    max_data = [results[experiment][\"maximum\"][location][year]['avg_sense_reward'] for year in year_list]\n",
    "\n",
    "    \n",
    "    sense_reward_ax.fill_between(year_list, y1=qt1_data, y2=qt3_data, alpha=0.2)\n",
    "    sense_reward_ax.plot(year_list, avg_data, label=experiment)\n",
    "    \n",
    "sense_reward_ax.text(0.15,0.85, 'sense utility', \n",
    "         size='x-small', ha=\"center\", \n",
    "         transform=sense_reward_ax.transAxes)\n",
    "# sense_reward_ax.set_title('sense utility')\n",
    "# sense_reward_ax.set_ylabel('sense utility')    \n",
    "sense_reward_ax.legend(loc=\"lower left\",\n",
    "                       ncol=1,\n",
    "                       fontsize='x-small',\n",
    "                       bbox_to_anchor=(-0.02,1,1,1))\n",
    "sense_reward_ax.grid(which='major', axis='x', linestyle='--')\n",
    "\n",
    "# Downtimes\n",
    "for experiment in experiment_list:\n",
    "    min_data = [results[experiment][\"minimum\"][location][year]['downtimes'] for year in year_list]\n",
    "    qt1_data = [results[experiment][\"first_q\"][location][year]['downtimes'] for year in year_list]\n",
    "    avg_data = [results[experiment][\"average\"][location][year]['downtimes'] for year in year_list]\n",
    "    qt3_data = [results[experiment][\"third_q\"][location][year]['downtimes'] for year in year_list]\n",
    "    max_data = [results[experiment][\"maximum\"][location][year]['downtimes'] for year in year_list]\n",
    "    \n",
    "    width = 0.8/len(experiment_list)  # the width of the bars \n",
    "    xroot = np.array(year_list) # label locations\n",
    "    xoffset = 0.8/2 - experiment_list.index(experiment) \n",
    "    downtimes_ax.bar(xroot+xoffset*width, avg_data,width, yerr = [qt1_data,qt3_data], \n",
    "                     label=experiment,\n",
    "                     error_kw=dict(ecolor='black', lw=1, capsize=0.5, capthick=width*0.5, alpha=0.2))\n",
    "\n",
    "downtimes_ax.set_xticks(year_list[::5])\n",
    "downtimes_ax.set_xticklabels(year_list[::5], rotation=0)\n",
    "\n",
    "downtimes_ax.text(0.15,0.85, 'downtimes', \n",
    "                 size='x-small', ha=\"center\", \n",
    "                 transform=downtimes_ax.transAxes)\n",
    "# downtimes_ax.set_title('downtimes')\n",
    "# downtimes_ax.set_ylabel('downtimes')    \n",
    "# downtimes_ax.legend(loc=\"lower left\",\n",
    "#                    ncol=1,\n",
    "#                    bbox_to_anchor=(0,0.8,1,1))\n",
    "downtimes_ax.grid(which='major', axis='y', linestyle='--')\n",
    "# fig.savefig('/figures/figure.png', dpi=300, bbox_inches='tight', transparent=True)"
   ]
  },
  {
   "cell_type": "code",
   "execution_count": 14,
   "metadata": {},
   "outputs": [
    {
     "data": {
      "text/plain": [
       "dict_keys([638913, 160861, 707317, 382084, 468738])"
      ]
     },
     "execution_count": 14,
     "metadata": {},
     "output_type": "execute_result"
    }
   ],
   "source": [
    "results[all_experiment_list[4]].keys()"
   ]
  },
  {
   "cell_type": "code",
   "execution_count": null,
   "metadata": {},
   "outputs": [],
   "source": []
  },
  {
   "cell_type": "code",
   "execution_count": null,
   "metadata": {},
   "outputs": [],
   "source": []
  }
 ],
 "metadata": {
  "kernelspec": {
   "display_name": "Python 3",
   "language": "python",
   "name": "python3"
  },
  "language_info": {
   "codemirror_mode": {
    "name": "ipython",
    "version": 3
   },
   "file_extension": ".py",
   "mimetype": "text/x-python",
   "name": "python",
   "nbconvert_exporter": "python",
   "pygments_lexer": "ipython3",
   "version": "3.7.4"
  }
 },
 "nbformat": 4,
 "nbformat_minor": 4
}
