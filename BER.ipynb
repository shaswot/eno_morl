{
 "cells": [
  {
   "cell_type": "code",
   "execution_count": 1,
   "metadata": {},
   "outputs": [],
   "source": [
    "import matplotlib.pyplot as plt\n",
    "from scipy import special\n",
    "\n",
    "import numpy as np"
   ]
  },
  {
   "cell_type": "code",
   "execution_count": 2,
   "metadata": {},
   "outputs": [],
   "source": [
    "plt.rc('xtick', labelsize=8)\n",
    "plt.rc('ytick', labelsize=8)\n",
    "plt.rc('axes', labelsize=8)"
   ]
  },
  {
   "cell_type": "code",
   "execution_count": 18,
   "metadata": {},
   "outputs": [],
   "source": [
    "N = 50*8*1024 # no. of bits per packet\n",
    "\n",
    "snr = np.linspace(8, 15, 100)\n",
    "snrdb = 10*np.log10(snr)\n",
    "BER = 0.5*special.erfc((snr)**0.5) # BPSK + AWGN\n",
    "tx_success = (1-BER)**N"
   ]
  },
  {
   "cell_type": "code",
   "execution_count": 63,
   "metadata": {},
   "outputs": [
    {
     "data": {
      "text/plain": [
       "<matplotlib.legend.Legend at 0x7f475559ab38>"
      ]
     },
     "execution_count": 63,
     "metadata": {},
     "output_type": "execute_result"
    },
    {
     "data": {
      "image/png": "[encoded data removed]",
      "text/plain": [
       "<Figure size 251.064x155.169 with 2 Axes>"
      ]
     },
     "metadata": {
      "needs_background": "light"
     },
     "output_type": "display_data"
    }
   ],
   "source": [
    "single_column_figure_width = 3.487\n",
    "double_column_figure_width = 7\n",
    "\n",
    "fig_width = single_column_figure_width\n",
    "fig_height = fig_width / 1.618\n",
    "\n",
    "fig, axs = plt.subplots(nrows=1,\n",
    "                        ncols=1,\n",
    "                        figsize=[fig_width,fig_height], # in inches\n",
    "                        )\n",
    "plt.subplots_adjust(left=None, bottom=None, right=None, top=None, wspace=.05, hspace=.05)\n",
    "\n",
    "\n",
    "axs.plot(snr, tx_success, color = \"tab:orange\", label=r'$P(tx)$')\n",
    "ber_ax = axs.twinx()\n",
    "ber_ax.plot(snr, BER, color=\"tab:gray\", label ='BER')\n",
    "ber_ax.set_yscale('log')\n",
    "\n",
    "# axs.tick_params(axis='y', colors='tab:orange')\n",
    "# ber_ax.tick_params(axis='y', colors='tab:gray')\n",
    "\n",
    "axs.text(0.5,0.9, 'Packet Length = 50KB\\n BPSK / AWGN', \n",
    "         size='x-small', ha='center', va='center', transform=axs.transAxes)\n",
    "axs.set_xlabel('SNR (linear)')\n",
    "\n",
    "axs.legend(loc=\"lower left\",\n",
    "           fontsize='x-small',\n",
    "           bbox_to_anchor=(0,0.1,1,1),\n",
    "           frameon=False\n",
    "          )\n",
    "ber_ax.legend(loc=\"lower left\",\n",
    "           fontsize='x-small',\n",
    "           bbox_to_anchor=(0,0.25,1,1),\n",
    "            frameon=False\n",
    "          )"
   ]
  },
  {
   "cell_type": "code",
   "execution_count": null,
   "metadata": {},
   "outputs": [],
   "source": []
  }
 ],
 "metadata": {
  "kernelspec": {
   "display_name": "Python 3",
   "language": "python",
   "name": "python3"
  },
  "language_info": {
   "codemirror_mode": {
    "name": "ipython",
    "version": 3
   },
   "file_extension": ".py",
   "mimetype": "text/x-python",
   "name": "python",
   "nbconvert_exporter": "python",
   "pygments_lexer": "ipython3",
   "version": "3.6.10"
  }
 },
 "nbformat": 4,
 "nbformat_minor": 4
}
