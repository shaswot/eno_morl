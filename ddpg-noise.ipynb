{
 "cells": [
  {
   "cell_type": "code",
   "execution_count": 2,
   "metadata": {},
   "outputs": [],
   "source": [
    "import numpy as np\n",
    "import os\n",
    "import matplotlib.pyplot as plt\n",
    "plt.rc('xtick', labelsize=8)\n",
    "plt.rc('ytick', labelsize=8)\n",
    "plt.rc('axes', labelsize=8)"
   ]
  },
  {
   "cell_type": "code",
   "execution_count": 4,
   "metadata": {},
   "outputs": [
    {
     "data": {
      "image/png": "[encoded data removed]",
      "text/plain": [
       "<Figure size 432x288 with 1 Axes>"
      ]
     },
     "metadata": {
      "needs_background": "light"
     },
     "output_type": "display_data"
    },
    {
     "data": {
      "image/png": "[encoded data removed]",
      "text/plain": [
       "<Figure size 432x288 with 1 Axes>"
      ]
     },
     "metadata": {
      "needs_background": "light"
     },
     "output_type": "display_data"
    }
   ],
   "source": [
    "def get_sigma(step, max_sigma=0.15, min_sigma=0.01, decay_period=None):\n",
    "    sigma = max_sigma - (max_sigma - min_sigma)\n",
    "    return sigma\n",
    "\n",
    "# Exploration Policy\n",
    "timeslots_per_day = 24\n",
    "max_sigma = 0.7\n",
    "min_sigma = 0.01\n",
    "\n",
    "noise_log = []\n",
    "\n",
    "\n",
    "for yr in range(10):\n",
    "    step = 0\n",
    "    episode = 0\n",
    "    for t in range(1, 365 * timeslots_per_day):\n",
    "        if t%timeslots_per_day == 0:\n",
    "            episode +=1\n",
    "            step = episode\n",
    "        else:\n",
    "            step += 1\n",
    "            \n",
    "        if np.random.random() > 0.9:\n",
    "            step-= timeslots_per_day\n",
    "            step = max(0,step)\n",
    "        noise = get_sigma(step, max_sigma, min_sigma)\n",
    "        noise_log.append(noise)\n",
    "plt.plot(noise_log)\n",
    "plt.show()\n",
    "plt.plot(noise_log[0:5 * timeslots_per_day ])\n",
    "plt.show()"
   ]
  },
  {
   "cell_type": "code",
   "execution_count": 2,
   "metadata": {},
   "outputs": [],
   "source": [
    "# non-linear batt-centric policy generator\n",
    "def k_factor(batt,k=0.95):\n",
    "    x = (batt-0.1)/0.9\n",
    "    y = (x-k*x)/(k-2*k*x+1)\n",
    "    action = y\n",
    "    return action"
   ]
  },
  {
   "cell_type": "code",
   "execution_count": 3,
   "metadata": {},
   "outputs": [],
   "source": [
    "batt = np.linspace(0.1,1,100)\n",
    "conformity = k_factor(batt, k=0.7)"
   ]
  },
  {
   "cell_type": "code",
   "execution_count": 7,
   "metadata": {},
   "outputs": [
    {
     "data": {
      "image/png": "[encoded data removed]",
      "text/plain": [
       "<Figure size 251.064x93.1016 with 1 Axes>"
      ]
     },
     "metadata": {
      "needs_background": "light"
     },
     "output_type": "display_data"
    }
   ],
   "source": [
    "single_column_figure_width = 3.487\n",
    "double_column_figure_width = 7\n",
    "fig_width = single_column_figure_width\n",
    "fig_height = fig_width / 1.618 *0.6\n",
    "\n",
    "fig, axs = plt.subplots(nrows=1,\n",
    "                        ncols=1,\n",
    "                        figsize=[fig_width,fig_height], # in inches\n",
    "                        sharey=True)\n",
    "plt.subplots_adjust(left=None, bottom=None, right=None, top=None, wspace=.05, hspace=.05)\n",
    "axs.plot(batt,conformity)\n",
    "axs.set_xlabel(\"Battery\")\n",
    "axs.set_ylabel(\"Conformity\")\n",
    "fig.savefig('./figures/kplot.png', dpi=300, bbox_inches='tight', transparent=True)"
   ]
  },
  {
   "cell_type": "code",
   "execution_count": null,
   "metadata": {},
   "outputs": [],
   "source": []
  }
 ],
 "metadata": {
  "kernelspec": {
   "display_name": "Python 3",
   "language": "python",
   "name": "python3"
  },
  "language_info": {
   "codemirror_mode": {
    "name": "ipython",
    "version": 3
   },
   "file_extension": ".py",
   "mimetype": "text/x-python",
   "name": "python",
   "nbconvert_exporter": "python",
   "pygments_lexer": "ipython3",
   "version": "3.6.10"
  }
 },
 "nbformat": 4,
 "nbformat_minor": 4
}
